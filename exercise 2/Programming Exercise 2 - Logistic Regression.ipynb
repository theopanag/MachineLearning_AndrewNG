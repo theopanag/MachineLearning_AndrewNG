{
 "cells": [
  {
   "cell_type": "code",
   "execution_count": 1,
   "metadata": {},
   "outputs": [],
   "source": [
    "import numpy as np\n",
    "import pandas as pd\n",
    "import matplotlib.pyplot as plt\n",
    "import scipy.optimize as opt \n",
    "\n",
    "import os\n",
    "\n",
    "\n",
    "%matplotlib inline"
   ]
  },
  {
   "cell_type": "markdown",
   "metadata": {},
   "source": [
    "## Part 1 - Logistic Regression"
   ]
  },
  {
   "cell_type": "code",
   "execution_count": 2,
   "metadata": {},
   "outputs": [
    {
     "data": {
      "text/html": [
       "<div>\n",
       "<style scoped>\n",
       "    .dataframe tbody tr th:only-of-type {\n",
       "        vertical-align: middle;\n",
       "    }\n",
       "\n",
       "    .dataframe tbody tr th {\n",
       "        vertical-align: top;\n",
       "    }\n",
       "\n",
       "    .dataframe thead th {\n",
       "        text-align: right;\n",
       "    }\n",
       "</style>\n",
       "<table border=\"1\" class=\"dataframe\">\n",
       "  <thead>\n",
       "    <tr style=\"text-align: right;\">\n",
       "      <th></th>\n",
       "      <th>exam1</th>\n",
       "      <th>exam2</th>\n",
       "      <th>y</th>\n",
       "    </tr>\n",
       "  </thead>\n",
       "  <tbody>\n",
       "    <tr>\n",
       "      <th>0</th>\n",
       "      <td>34.623660</td>\n",
       "      <td>78.024693</td>\n",
       "      <td>0</td>\n",
       "    </tr>\n",
       "    <tr>\n",
       "      <th>1</th>\n",
       "      <td>30.286711</td>\n",
       "      <td>43.894998</td>\n",
       "      <td>0</td>\n",
       "    </tr>\n",
       "    <tr>\n",
       "      <th>2</th>\n",
       "      <td>35.847409</td>\n",
       "      <td>72.902198</td>\n",
       "      <td>0</td>\n",
       "    </tr>\n",
       "    <tr>\n",
       "      <th>3</th>\n",
       "      <td>60.182599</td>\n",
       "      <td>86.308552</td>\n",
       "      <td>1</td>\n",
       "    </tr>\n",
       "    <tr>\n",
       "      <th>4</th>\n",
       "      <td>79.032736</td>\n",
       "      <td>75.344376</td>\n",
       "      <td>1</td>\n",
       "    </tr>\n",
       "  </tbody>\n",
       "</table>\n",
       "</div>"
      ],
      "text/plain": [
       "       exam1      exam2  y\n",
       "0  34.623660  78.024693  0\n",
       "1  30.286711  43.894998  0\n",
       "2  35.847409  72.902198  0\n",
       "3  60.182599  86.308552  1\n",
       "4  79.032736  75.344376  1"
      ]
     },
     "execution_count": 2,
     "metadata": {},
     "output_type": "execute_result"
    }
   ],
   "source": [
    "# Read the data\n",
    "FOLDER = 'data'\n",
    "FILE = 'ex2data1.txt'\n",
    "path = os.path.join(FOLDER, FILE)\n",
    "\n",
    "data = pd.read_csv(path, header = None, names = ['exam1', 'exam2','y'])\n",
    "data.head()"
   ]
  },
  {
   "cell_type": "markdown",
   "metadata": {},
   "source": [
    "### 1.1 Visualizing the data"
   ]
  },
  {
   "cell_type": "code",
   "execution_count": 3,
   "metadata": {},
   "outputs": [
    {
     "data": {
      "image/png": "[encoded data removed]",
      "text/plain": [
       "<Figure size 576x432 with 1 Axes>"
      ]
     },
     "metadata": {},
     "output_type": "display_data"
    }
   ],
   "source": [
    "# Split the data to two variables\n",
    "X = np.array(data[['exam1','exam2']])\n",
    "Y = np.array(data['y'])\n",
    "\n",
    "# Number of training examples\n",
    "m = X.shape[0]\n",
    "\n",
    "\n",
    "# Plot from different column objects\n",
    "plt.figure(figsize = (8,6))\n",
    "plt.scatter(X[Y == 0,0], X[Y == 0,1], marker = '+', c='red', label = 'Not admitted')\n",
    "plt.scatter(X[Y == 1,0], X[Y == 1,1], marker = '.', c='blue', label = 'Admitted')\n",
    "\n",
    "plt.xlabel('Exam 1 score')\n",
    "plt.ylabel('Exam 2 score')\n",
    "plt.title('Training data')\n",
    "plt.legend()\n",
    "plt.show()"
   ]
  },
  {
   "cell_type": "markdown",
   "metadata": {},
   "source": [
    "### 1.2 Implementation"
   ]
  },
  {
   "cell_type": "markdown",
   "metadata": {},
   "source": [
    "Logistic regression hypothesis is defined as: $$ h_{\\theta}(x)=g(\\theta^Tx), $$ where function $g$ is the sigmoid function. The sigmoid function is defined as: $$ g(z)=\\frac{1}{1+e^{-z}} $$"
   ]
  },
  {
   "cell_type": "markdown",
   "metadata": {},
   "source": [
    "#### 1.2.1 Warmup: sigmoid function"
   ]
  },
  {
   "cell_type": "code",
   "execution_count": 4,
   "metadata": {},
   "outputs": [],
   "source": [
    "def sigmoid(z):\n",
    "    '''\n",
    "    Calculates the output of the sigmoid function\n",
    "    '''\n",
    "    res = 1 / (1 + np.exp(-z))\n",
    "    return res"
   ]
  },
  {
   "cell_type": "markdown",
   "metadata": {},
   "source": [
    "#### 1.2.2 Cost function and gradient"
   ]
  },
  {
   "cell_type": "markdown",
   "metadata": {},
   "source": [
    "Cost function in logistic regression is \n",
    "$$ J(\\theta)=\\frac{1}{m} \\sum_{i=1}^m \\left [ -y^{(i)}log(h_{\\theta}(x^{(i)})) - (1-y^{(i)})log(1-h_{\\theta}(x^{(i)})) \\right ] $$\n",
    "and the gradient of the cost is a vecotr of the same length as $\\theta$ where the $j^{th}$ element (for $j = 0,1,...,n$) is defined as:\n",
    "$$ \\frac{\\partial J(\\theta)}{\\partial \\theta_j} = \\frac{1}{m} \\sum_{i=1}^m (h_{\\theta}(x^{(i)}) - y^{(i)}) x_j^{(i)} $$"
   ]
  },
  {
   "cell_type": "code",
   "execution_count": 5,
   "metadata": {},
   "outputs": [],
   "source": [
    "def costFunction(theta, x, y):\n",
    "    '''\n",
    "    Return the cost function for logistic regression\n",
    "    '''\n",
    "    #y_reshape = y.reshape(y.shape[0],1)\n",
    "    assert theta.shape[0] == x.shape[1], \" Theta first dimension and x second dimension mismatch\"\n",
    "    assert x.shape[0] == y.shape[0], \" x first dimension and y first dimension mismatch\"\n",
    "    m = y.shape[0]\n",
    "    prob = sigmoid(np.dot(x, theta))\n",
    "    J = -y*np.log(prob) -(1-y)*np.log(1-prob)\n",
    "    return J.mean()\n",
    "\n",
    "def gradFunction(theta, x, y):\n",
    "    '''\n",
    "    Return the gradient for logistic regression\n",
    "    '''\n",
    "    #y_reshape = y.reshape(y.shape[0],1)\n",
    "    assert theta.shape[0] == x.shape[1], \" Theta first dimension and x second dimension mismatch\"\n",
    "    assert x.shape[0] == y.shape[0], \" x first dimension and y first dimension mismatch\"\n",
    "    m = y.shape[0]\n",
    "    grad = np.dot(x.T, sigmoid(np.dot(x, theta)) - y) / m\n",
    "    return grad"
   ]
  },
  {
   "cell_type": "code",
   "execution_count": 6,
   "metadata": {},
   "outputs": [
    {
     "name": "stdout",
     "output_type": "stream",
     "text": [
      "Cost: [ -0.1        -12.00921659 -11.26284221]\n"
     ]
    }
   ],
   "source": [
    "# Initialize variables for experimenting\n",
    "X_aug = np.hstack((np.ones((X.shape[0],1)), X))\n",
    "init_theta = np.zeros(X_aug.shape[1])\n",
    "\n",
    "# Compute initial cost and gradient\n",
    "cost = costFunction(init_theta, X_aug, Y)\n",
    "gradient = gradFunction(init_theta, X_aug, Y)\n",
    "\n",
    "# Test score with initial values : expected value = 0.693\n",
    "print(\"Cost: {0}\".format(gradient))"
   ]
  },
  {
   "cell_type": "code",
   "execution_count": 7,
   "metadata": {},
   "outputs": [
    {
     "name": "stdout",
     "output_type": "stream",
     "text": [
      "Cost: 0.21833019382659796\n",
      "Gradient: [0.04290299 2.56623412 2.64679737]\n"
     ]
    }
   ],
   "source": [
    "test_theta = np.array([-24, 0.2, 0.2])\n",
    "\n",
    "# Compute initial cost and gradient\n",
    "cost1 = costFunction(test_theta, X_aug, Y)\n",
    "gradient1 = gradFunction(test_theta, X_aug, Y)\n",
    "\n",
    "# Test score with initial values : expected value = 0.693\n",
    "print(\"Cost: {0}\".format(cost1))\n",
    "print(\"Gradient: {0}\".format(gradient1))"
   ]
  },
  {
   "cell_type": "markdown",
   "metadata": {},
   "source": [
    "#### 1.2.3 Learning parameters using optimizer"
   ]
  },
  {
   "cell_type": "code",
   "execution_count": 8,
   "metadata": {},
   "outputs": [
    {
     "name": "stdout",
     "output_type": "stream",
     "text": [
      "Optimization terminated successfully.\n",
      "         Current function value: 0.203498\n",
      "         Iterations: 23\n",
      "         Function evaluations: 31\n",
      "         Gradient evaluations: 31\n",
      "Cost with optimal theta: 0.20349770158944383\n",
      "Optimal theta: [-25.16133284   0.2062317    0.2014716 ]\n"
     ]
    },
    {
     "name": "stderr",
     "output_type": "stream",
     "text": [
      "/home/theopanag/anaconda3/lib/python3.6/site-packages/ipykernel_launcher.py:10: RuntimeWarning: divide by zero encountered in log\n",
      "  # Remove the CWD from sys.path while we load stuff.\n",
      "/home/theopanag/anaconda3/lib/python3.6/site-packages/ipykernel_launcher.py:10: RuntimeWarning: invalid value encountered in multiply\n",
      "  # Remove the CWD from sys.path while we load stuff.\n"
     ]
    }
   ],
   "source": [
    "# We will use the fmin_bfgs (Broyden-Fletcher-Goldfarb-Shanno algorithm) function from the Scipy Optimize package\n",
    "theta_opt = opt.fmin_bfgs(costFunction, init_theta, fprime = gradFunction, args=(X_aug, Y))\n",
    "\n",
    "cost_opt = costFunction(theta_opt, X_aug, Y)\n",
    "print(\"Cost with optimal theta: {0}\".format(cost_opt))\n",
    "print(\"Optimal theta: {0}\".format(theta_opt))"
   ]
  },
  {
   "cell_type": "code",
   "execution_count": 9,
   "metadata": {},
   "outputs": [
    {
     "data": {
      "image/png": "[encoded data removed]",
      "text/plain": [
       "<Figure size 576x432 with 1 Axes>"
      ]
     },
     "metadata": {},
     "output_type": "display_data"
    }
   ],
   "source": [
    "plt.figure(figsize = (8,6))\n",
    "# Plot from different column objects\n",
    "plt.scatter(X[Y == 0,0], X[Y == 0,1], marker = '+', c='red', label = 'Not admitted')\n",
    "plt.scatter(X[Y == 1,0], X[Y == 1,1], marker = '.', c='blue', label = 'Admitted')\n",
    "\n",
    "# Solving the equation analytically to find the appropriate X2\n",
    "X1 = X_aug[:,1]\n",
    "X2 = -(theta_opt[0] + theta_opt[1]*X1) / theta_opt[2]\n",
    "\n",
    "\n",
    "plt.plot(X1, X2, linestyle='-', c = 'black', linewidth = 0.5)\n",
    "\n",
    "plt.xlabel('Exam 1 score')\n",
    "plt.ylabel('Exam 2 score')\n",
    "plt.title('Training data with decision boundary')\n",
    "plt.legend()\n",
    "plt.show()"
   ]
  },
  {
   "cell_type": "markdown",
   "metadata": {},
   "source": [
    "#### 1.2.4 Evaluating logistic regression"
   ]
  },
  {
   "cell_type": "code",
   "execution_count": 10,
   "metadata": {},
   "outputs": [
    {
     "name": "stdout",
     "output_type": "stream",
     "text": [
      "Probability of admission = 0.7763\n"
     ]
    }
   ],
   "source": [
    "# Example with Exam1 score = 45 and Exam2 score = 85 (expected admission probability = 0.776)\n",
    "\n",
    "test_stud = np.array([1,45,85])\n",
    "print(\"Probability of admission = {0}\".format(round(sigmoid(np.dot(test_stud, theta_opt)),4)))"
   ]
  },
  {
   "cell_type": "code",
   "execution_count": 11,
   "metadata": {},
   "outputs": [],
   "source": [
    "# Create the predict function\n",
    "\n",
    "def predict(theta, x):\n",
    "    predictions = np.where(sigmoid(np.dot(x, theta)) > 0.5, 1, 0).flatten()\n",
    "    return predictions"
   ]
  },
  {
   "cell_type": "code",
   "execution_count": 12,
   "metadata": {},
   "outputs": [
    {
     "name": "stdout",
     "output_type": "stream",
     "text": [
      "Accuracy on training data: 89.0%\n"
     ]
    }
   ],
   "source": [
    "# Calculate accuracy on training set\n",
    "\n",
    "res = predict(theta_opt, X_aug)\n",
    "acc = np.mean(res == Y)\n",
    "print(\"Accuracy on training data: {0}%\".format(round(acc*100,2)))"
   ]
  },
  {
   "cell_type": "markdown",
   "metadata": {},
   "source": [
    "## Part 2: Regularized logistic regression"
   ]
  },
  {
   "cell_type": "code",
   "execution_count": 13,
   "metadata": {},
   "outputs": [
    {
     "data": {
      "text/html": [
       "<div>\n",
       "<style scoped>\n",
       "    .dataframe tbody tr th:only-of-type {\n",
       "        vertical-align: middle;\n",
       "    }\n",
       "\n",
       "    .dataframe tbody tr th {\n",
       "        vertical-align: top;\n",
       "    }\n",
       "\n",
       "    .dataframe thead th {\n",
       "        text-align: right;\n",
       "    }\n",
       "</style>\n",
       "<table border=\"1\" class=\"dataframe\">\n",
       "  <thead>\n",
       "    <tr style=\"text-align: right;\">\n",
       "      <th></th>\n",
       "      <th>test1</th>\n",
       "      <th>test2</th>\n",
       "      <th>y</th>\n",
       "    </tr>\n",
       "  </thead>\n",
       "  <tbody>\n",
       "    <tr>\n",
       "      <th>0</th>\n",
       "      <td>0.051267</td>\n",
       "      <td>0.69956</td>\n",
       "      <td>1</td>\n",
       "    </tr>\n",
       "    <tr>\n",
       "      <th>1</th>\n",
       "      <td>-0.092742</td>\n",
       "      <td>0.68494</td>\n",
       "      <td>1</td>\n",
       "    </tr>\n",
       "    <tr>\n",
       "      <th>2</th>\n",
       "      <td>-0.213710</td>\n",
       "      <td>0.69225</td>\n",
       "      <td>1</td>\n",
       "    </tr>\n",
       "    <tr>\n",
       "      <th>3</th>\n",
       "      <td>-0.375000</td>\n",
       "      <td>0.50219</td>\n",
       "      <td>1</td>\n",
       "    </tr>\n",
       "    <tr>\n",
       "      <th>4</th>\n",
       "      <td>-0.513250</td>\n",
       "      <td>0.46564</td>\n",
       "      <td>1</td>\n",
       "    </tr>\n",
       "  </tbody>\n",
       "</table>\n",
       "</div>"
      ],
      "text/plain": [
       "      test1    test2  y\n",
       "0  0.051267  0.69956  1\n",
       "1 -0.092742  0.68494  1\n",
       "2 -0.213710  0.69225  1\n",
       "3 -0.375000  0.50219  1\n",
       "4 -0.513250  0.46564  1"
      ]
     },
     "execution_count": 13,
     "metadata": {},
     "output_type": "execute_result"
    }
   ],
   "source": [
    "# Read the data\n",
    "FILE = 'ex2data2.txt'\n",
    "path = os.path.join(FOLDER, FILE)\n",
    "\n",
    "data = pd.read_csv(path, header = None, names = ['test1', 'test2','y'])\n",
    "data.head()"
   ]
  },
  {
   "cell_type": "markdown",
   "metadata": {},
   "source": [
    "### 2.1 Visualizing the data"
   ]
  },
  {
   "cell_type": "code",
   "execution_count": 14,
   "metadata": {},
   "outputs": [
    {
     "data": {
      "image/png": "[encoded data removed]",
      "text/plain": [
       "<Figure size 576x432 with 1 Axes>"
      ]
     },
     "metadata": {},
     "output_type": "display_data"
    }
   ],
   "source": [
    "# Split the data to two variables\n",
    "X = np.array(data[['test1','test2']])\n",
    "Y = np.array(data['y'])\n",
    "\n",
    "# Number of training examples\n",
    "m = X.shape[0]\n",
    "\n",
    "# Plot from different column objects\n",
    "plt.figure(figsize = (8,6))\n",
    "plt.scatter(X[Y == 0,0], X[Y == 0,1], marker = '+', c='red', label = 'y=0')\n",
    "plt.scatter(X[Y == 1,0], X[Y == 1,1], marker = 'o', c='blue', label = 'y=1')\n",
    "#plt.plot(X, Y, \"x\", label = 'Profit')\n",
    "plt.xlabel('Microchip Test 1')\n",
    "plt.ylabel('Microchip Test 2')\n",
    "plt.title('ex2data2')\n",
    "plt.legend()\n",
    "plt.show()"
   ]
  },
  {
   "cell_type": "markdown",
   "metadata": {},
   "source": [
    "### 2.2 Feature Mapping"
   ]
  },
  {
   "cell_type": "code",
   "execution_count": 15,
   "metadata": {},
   "outputs": [
    {
     "data": {
      "text/plain": [
       "(118, 28)"
      ]
     },
     "execution_count": 15,
     "metadata": {},
     "output_type": "execute_result"
    }
   ],
   "source": [
    "def featureMap(x):\n",
    "    # Add the bias term (x_0)\n",
    "    x_res = np.hstack((np.ones((x.shape[0],1)), x))\n",
    "\n",
    "    # Add the polynomials by hstacking\n",
    "    for i in range(2,7):\n",
    "        for j in range(i+1):\n",
    "            x_res = np.concatenate((x_res, (np.power(x[:,0],i-j) * np.power(x[:,1],j)).reshape(x_res.shape[0],1)), axis = 1)\n",
    "            \n",
    "    return x_res\n",
    "\n",
    "X_fm = featureMap(X)\n",
    "X_fm.shape"
   ]
  },
  {
   "cell_type": "markdown",
   "metadata": {},
   "source": [
    "### 2.3 Cost function and Gradient"
   ]
  },
  {
   "cell_type": "markdown",
   "metadata": {},
   "source": [
    "Recall that the regularized cost function in logistic regression is \n",
    "$$ J(\\theta)=\\frac{1}{m} \\sum_{i=1}^m \\left [ -y^{(i)}log(h_{\\theta}(x^{(i)})) - (1-y^{(i)})log(1-h_{\\theta}(x^{(i)})) \\right ] + \\frac{\\lambda}{2m} \\sum_{j=1}^n \\theta_j^2 $$\n",
    "The gradient of the cost function is a vector where the $j^{th}$ element is defined as:\n",
    "$$ \n",
    "\\begin{align*}\n",
    "&\\frac{\\partial J(\\theta)}{\\partial \\theta_j} = \\frac{1}{m} \\sum_{i=1}^m (h_{\\theta}(x^{(i)}) - y^{(i)}) x_j^{(i)} &\\text{for }j=0 \\\\\n",
    "&\\frac{\\partial J(\\theta)}{\\partial \\theta_j} = \\left ( \\frac{1}{m} \\sum_{i=1}^m (h_{\\theta}(x^{(i)}) - y^{(i)}) x_j^{(i)} \\right ) + \\frac{\\lambda}{m}\\theta_j &\\text{for }j \\geq 1 \\\\\n",
    "\\end{align*}\n",
    "$$"
   ]
  },
  {
   "cell_type": "code",
   "execution_count": 16,
   "metadata": {},
   "outputs": [],
   "source": [
    "def costFunctionReg(theta, x, y, l):\n",
    "    '''\n",
    "    Return the cost function for logistic regression\n",
    "    '''\n",
    "    #y_reshape = y.reshape(y.shape[0],1)\n",
    "    assert theta.shape[0] == x.shape[1], \" Theta first dimension and x second dimension mismatch\"\n",
    "    assert x.shape[0] == y.shape[0], \" x first dimension and y first dimension mismatch\"\n",
    "    m = y.shape[0]\n",
    "    prob = sigmoid(np.dot(x, theta))\n",
    "    J = -y*np.log(prob) -(1-y)*np.log(1-prob)\n",
    "    return J.mean() + l*np.sum(np.power(theta[1:],2))/(2*m)\n",
    "\n",
    "def gradFunctionReg(theta, x, y, l):\n",
    "    '''\n",
    "    Return the gradient for logistic regression\n",
    "    '''\n",
    "    #y_reshape = y.reshape(y.shape[0],1)\n",
    "    assert theta.shape[0] == x.shape[1], \" Theta first dimension and x second dimension mismatch\"\n",
    "    assert x.shape[0] == y.shape[0], \" x first dimension and y first dimension mismatch\"\n",
    "    m = y.shape[0]\n",
    "    grad = np.dot(x.T, sigmoid(np.dot(x, theta)) - y) / m\n",
    "    grad[1:] += l/m * theta[1:]\n",
    "    return grad"
   ]
  },
  {
   "cell_type": "code",
   "execution_count": 17,
   "metadata": {},
   "outputs": [
    {
     "name": "stdout",
     "output_type": "stream",
     "text": [
      "Cost function regularized for initial theta = 0.6931\n",
      "Gradient regularized for initial theta = [8.47457627e-03 1.87880932e-02 7.77711864e-05 5.03446395e-02\n",
      " 1.15013308e-02 3.76648474e-02 1.83559872e-02 7.32393391e-03\n",
      " 8.19244468e-03 2.34764889e-02 3.93486234e-02 2.23923907e-03\n",
      " 1.28600503e-02 3.09593720e-03 3.93028171e-02 1.99707467e-02\n",
      " 4.32983232e-03 3.38643902e-03 5.83822078e-03 4.47629067e-03\n",
      " 3.10079849e-02 3.10312442e-02 1.09740238e-03 6.31570797e-03\n",
      " 4.08503006e-04 7.26504316e-03 1.37646175e-03 3.87936363e-02]\n"
     ]
    }
   ],
   "source": [
    "init_theta = np.zeros(X_fm.shape[1])\n",
    "print(\"Cost function regularized for initial theta = {0}\".format(round(costFunctionReg(init_theta, X_fm, Y, 1),4)))\n",
    "print(\"Gradient regularized for initial theta = {0}\".format(gradFunctionReg(init_theta, X_fm, Y, 1)))"
   ]
  },
  {
   "cell_type": "markdown",
   "metadata": {},
   "source": [
    "#### 2.3.1 Learning parameters using fminunc"
   ]
  },
  {
   "cell_type": "code",
   "execution_count": 18,
   "metadata": {},
   "outputs": [
    {
     "name": "stdout",
     "output_type": "stream",
     "text": [
      "Optimization terminated successfully.\n",
      "         Current function value: 0.529003\n",
      "         Iterations: 47\n",
      "         Function evaluations: 48\n",
      "         Gradient evaluations: 48\n",
      "Cost with optimal theta: 0.4625\n",
      "Optimal theta: [ 1.27268739  0.62557016  1.1809665  -2.01919822 -0.91761468 -1.43194199\n",
      "  0.12375921 -0.36513086 -0.35703388 -0.17485805 -1.45843772 -0.05129676\n",
      " -0.61603963 -0.2746414  -1.19282569 -0.24270336 -0.20570022 -0.04499768\n",
      " -0.27782709 -0.29525851 -0.45613294 -1.04377851  0.02762813 -0.29265642\n",
      "  0.01543393 -0.32759318 -0.14389199 -0.92460119]\n"
     ]
    }
   ],
   "source": [
    "# lambda value\n",
    "l = 1\n",
    "\n",
    "# We will use the fmin_bfgs (Broyden-Fletcher-Goldfarb-Shanno algorithm) function from the Scipy Optimize package\n",
    "theta_opt = opt.fmin_bfgs(costFunctionReg, init_theta, fprime = gradFunctionReg, args=(X_fm, Y, l))\n",
    "\n",
    "cost_opt = round(costFunction(theta_opt, X_fm, Y),4)\n",
    "print(\"Cost with optimal theta: {0}\".format(cost_opt))\n",
    "print(\"Optimal theta: {0}\".format(theta_opt))"
   ]
  },
  {
   "cell_type": "markdown",
   "metadata": {},
   "source": [
    "### 2.4 Plotting decision boundary"
   ]
  },
  {
   "cell_type": "code",
   "execution_count": 19,
   "metadata": {},
   "outputs": [],
   "source": [
    "# num_of_partitions\n",
    "part = 200\n",
    "\n",
    "# First find the limits of the grid\n",
    "test1_min, test1_max = X_fm[:, 1].min(), X_fm[:, 1].max()\n",
    "test2_min, test2_max = X_fm[:, 2].min(), X_fm[:, 2].max()\n",
    "\n",
    "# Create the meshgrid\n",
    "test1_vals, test2_vals = np.meshgrid(np.linspace(test1_min, test1_max, part),\n",
    "                     np.linspace(test2_min, test2_max, part))\n",
    "\n",
    "def xmatrix(x1_array, x2_array, i_col):\n",
    "    return np.concatenate((x1_array[:,i_col].reshape(x1_array.shape[0],1),\n",
    "                           x2_array[:,i_col].reshape(x2_array.shape[0],1)),\n",
    "                          axis = 1)\n",
    "\n",
    "# Create result matrix\n",
    "org_matrix = xmatrix(test1_vals, test2_vals, 0)\n",
    "zz = sigmoid(np.dot(featureMap(org_matrix), theta_opt)).reshape(org_matrix.shape[0],1)\n",
    "for i in range(1,test1_vals.shape[1]):\n",
    "    featureMatrix = xmatrix(test1_vals, test2_vals, i)\n",
    "    zz = np.concatenate((zz,\n",
    "                         sigmoid(np.dot(featureMap(featureMatrix),\n",
    "                                        theta_opt)).reshape(zz.shape[0],1)),\n",
    "                        axis = 1)"
   ]
  },
  {
   "cell_type": "code",
   "execution_count": 20,
   "metadata": {},
   "outputs": [
    {
     "data": {
      "image/png": "[encoded data removed]",
      "text/plain": [
       "<Figure size 576x432 with 1 Axes>"
      ]
     },
     "metadata": {},
     "output_type": "display_data"
    }
   ],
   "source": [
    "plt.figure(figsize= (8,6))\n",
    "# Plot the decision boundary\n",
    "cp = plt.contour(test1_vals, test2_vals, zz, [0.5])\n",
    "\n",
    "# Plot from different column objects\n",
    "plt.scatter(X[Y == 0,0], X[Y == 0,1], marker = '+', c='red', label = 'y=0')\n",
    "plt.scatter(X[Y == 1,0], X[Y == 1,1], marker = 'o', c='blue', label = 'y=1')\n",
    "\n",
    "plt.xlabel('Microchip Test 1')\n",
    "plt.ylabel('Microchip Test 2')\n",
    "plt.title('Training data with decision boundary ($\\lambda$ = {0})'.format(l))\n",
    "plt.legend()\n",
    "plt.show()"
   ]
  }
 ],
 "metadata": {
  "kernelspec": {
   "display_name": "Python 3",
   "language": "python",
   "name": "python3"
  },
  "language_info": {
   "codemirror_mode": {
    "name": "ipython",
    "version": 3
   },
   "file_extension": ".py",
   "mimetype": "text/x-python",
   "name": "python",
   "nbconvert_exporter": "python",
   "pygments_lexer": "ipython3",
   "version": "3.6.4"
  }
 },
 "nbformat": 4,
 "nbformat_minor": 2
}
