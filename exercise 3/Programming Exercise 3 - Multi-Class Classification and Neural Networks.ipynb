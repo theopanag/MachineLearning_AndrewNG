{
 "cells": [
  {
   "cell_type": "code",
   "execution_count": 1,
   "metadata": {},
   "outputs": [],
   "source": [
    "import numpy as np\n",
    "import pandas as pd\n",
    "import matplotlib.pyplot as plt\n",
    "import scipy.optimize as opt\n",
    "import scipy.io\n",
    "\n",
    "import os\n",
    "\n",
    "%matplotlib inline"
   ]
  },
  {
   "cell_type": "markdown",
   "metadata": {},
   "source": [
    "## Part 1 - Multi-Class Classification"
   ]
  },
  {
   "cell_type": "markdown",
   "metadata": {},
   "source": [
    "### 1.1 Dataset"
   ]
  },
  {
   "cell_type": "code",
   "execution_count": 2,
   "metadata": {},
   "outputs": [
    {
     "name": "stdout",
     "output_type": "stream",
     "text": [
      "X is of dimensions (5000, 400)\n",
      "y is of dimensions (5000,)\n"
     ]
    }
   ],
   "source": [
    "# Read the data\n",
    "# Read the data\n",
    "FOLDER = 'data'\n",
    "FILE = 'ex3data1.mat'\n",
    "path = os.path.join(FOLDER, FILE)\n",
    "\n",
    "data = scipy.io.loadmat(path)\n",
    "\n",
    "X = data['X']\n",
    "Y = data['y'].flatten()\n",
    "print(\"X is of dimensions {0}\".format(X.shape))\n",
    "print(\"y is of dimensions {0}\".format(Y.shape))"
   ]
  },
  {
   "cell_type": "markdown",
   "metadata": {},
   "source": [
    "### 1.2 Visualizing the data"
   ]
  },
  {
   "cell_type": "code",
   "execution_count": 3,
   "metadata": {},
   "outputs": [
    {
     "name": "stdout",
     "output_type": "stream",
     "text": [
      "True value = 2\n"
     ]
    },
    {
     "data": {
      "image/png": "[encoded data removed]",
      "text/plain": [
       "<Figure size 432x288 with 1 Axes>"
      ]
     },
     "metadata": {},
     "output_type": "display_data"
    }
   ],
   "source": [
    "plt.gray()\n",
    "row = 1050\n",
    "plt.imshow(X[row,:].reshape((20,20), order = 'F'), aspect = 'equal')\n",
    "print(\"True value = {0}\".format(Y[row].item()))"
   ]
  },
  {
   "cell_type": "markdown",
   "metadata": {},
   "source": [
    "### 1.3 Vectorizing logistic regression"
   ]
  },
  {
   "cell_type": "code",
   "execution_count": 4,
   "metadata": {},
   "outputs": [],
   "source": [
    "def sigmoid(z):\n",
    "    '''\n",
    "    Calculates the output of the sigmoid function\n",
    "    '''\n",
    "    res = 1 / (1 + np.exp(-z))\n",
    "    return res\n",
    "\n",
    "def costFunction(theta, x, y):\n",
    "    '''\n",
    "    Return the cost function for logistic regression\n",
    "    '''\n",
    "    assert theta.shape[0] == x.shape[1], \" Theta first dimension and x second dimension mismatch\"\n",
    "    assert x.shape[0] == y.shape[0], \" x first dimension and y first dimension mismatch\"\n",
    "    m = y.shape[0]\n",
    "    prob = sigmoid(np.dot(x, theta))\n",
    "    J = -y*np.log(prob) -(1-y)*np.log(1-prob)\n",
    "    return J.mean()\n",
    "\n",
    "def gradFunction(theta, x, y):\n",
    "    '''\n",
    "    Return the gradient for logistic regression\n",
    "    '''\n",
    "    assert theta.shape[0] == x.shape[1], \" Theta first dimension and x second dimension mismatch\"\n",
    "    assert x.shape[0] == y.shape[0], \" x first dimension and y first dimension mismatch\"\n",
    "    m = y.shape[0]\n",
    "    grad = np.dot(x.T, sigmoid(np.dot(x, theta)) - y) / m\n",
    "    return grad"
   ]
  },
  {
   "cell_type": "code",
   "execution_count": 5,
   "metadata": {},
   "outputs": [],
   "source": [
    "def costFunctionReg(theta, x, y, l):\n",
    "    '''\n",
    "    Return the cost function for logistic regression\n",
    "    '''\n",
    "    assert theta.shape[0] == x.shape[1], \" Theta first dimension and x second dimension mismatch\"\n",
    "    assert x.shape[0] == y.shape[0], \" x first dimension and y first dimension mismatch\"\n",
    "    m = y.shape[0]\n",
    "    prob = sigmoid(np.dot(x, theta))\n",
    "    J = -y*np.log(prob) -(1-y)*np.log(1-prob)\n",
    "    return J.mean() + l*np.sum(np.power(theta[1:],2))/(2*m)\n",
    "\n",
    "def gradFunctionReg(theta, x, y, l):\n",
    "    '''\n",
    "    Return the gradient for logistic regression\n",
    "    '''\n",
    "    assert theta.shape[0] == x.shape[1], \" Theta first dimension and x second dimension mismatch\"\n",
    "    assert x.shape[0] == y.shape[0], \" x first dimension and y first dimension mismatch\"\n",
    "    m = y.shape[0]\n",
    "    grad = np.dot(x.T, sigmoid(np.dot(x, theta)) - y) / m\n",
    "    grad[1:] += l/m * theta[1:]\n",
    "    return grad"
   ]
  },
  {
   "cell_type": "markdown",
   "metadata": {},
   "source": [
    "### 1.4 One-vs-All classification"
   ]
  },
  {
   "cell_type": "code",
   "execution_count": 6,
   "metadata": {},
   "outputs": [],
   "source": [
    "def oneVsAll(x, y, num_labels, l):\n",
    "    assert x.shape[0] == y.shape[0], \" x first dimension and y first dimension mismatch\"\n",
    "    m = x.shape[0]\n",
    "    n = x.shape[1]\n",
    "    \n",
    "    # add bias term to x\n",
    "    x_b = np.hstack((np.ones((x.shape[0],1)), x))\n",
    "    \n",
    "    # set initial theta\n",
    "    init_theta = np.ones((num_labels, n+1))\n",
    "    \n",
    "    for label in range(num_labels):\n",
    "        print(label)\n",
    "        y_label = ((np.mod(y,10) == label)*1).flatten()\n",
    "        theta_opt = opt.fmin_cg(costFunctionReg, init_theta[label], fprime = gradFunctionReg, args=(x_b, y_label, l))\n",
    "        init_theta[label] = theta_opt\n",
    "    \n",
    "    return init_theta  \n",
    "\n",
    "def predictOneVsAll(theta, x):\n",
    "    # add bias term to x\n",
    "    x_b = np.hstack((np.ones((x.shape[0],1)), x))\n",
    "    \n",
    "    y_res = sigmoid(np.dot(x_b, theta.T))\n",
    "    return np.argmax(y_res, axis = 1)"
   ]
  },
  {
   "cell_type": "code",
   "execution_count": 7,
   "metadata": {
    "scrolled": true
   },
   "outputs": [
    {
     "name": "stdout",
     "output_type": "stream",
     "text": [
      "0\n"
     ]
    },
    {
     "name": "stderr",
     "output_type": "stream",
     "text": [
      "/home/theopanag/anaconda3/lib/python3.6/site-packages/ipykernel_launcher.py:9: RuntimeWarning: divide by zero encountered in log\n",
      "  if __name__ == '__main__':\n",
      "/home/theopanag/anaconda3/lib/python3.6/site-packages/ipykernel_launcher.py:9: RuntimeWarning: invalid value encountered in multiply\n",
      "  if __name__ == '__main__':\n",
      "/home/theopanag/anaconda3/lib/python3.6/site-packages/ipykernel_launcher.py:9: RuntimeWarning: divide by zero encountered in log\n",
      "  if __name__ == '__main__':\n",
      "/home/theopanag/anaconda3/lib/python3.6/site-packages/ipykernel_launcher.py:9: RuntimeWarning: invalid value encountered in multiply\n",
      "  if __name__ == '__main__':\n"
     ]
    },
    {
     "name": "stdout",
     "output_type": "stream",
     "text": [
      "Optimization terminated successfully.\n",
      "         Current function value: 0.008585\n",
      "         Iterations: 142\n",
      "         Function evaluations: 563\n",
      "         Gradient evaluations: 563\n",
      "1\n"
     ]
    },
    {
     "name": "stderr",
     "output_type": "stream",
     "text": [
      "/home/theopanag/anaconda3/lib/python3.6/site-packages/ipykernel_launcher.py:9: RuntimeWarning: divide by zero encountered in log\n",
      "  if __name__ == '__main__':\n",
      "/home/theopanag/anaconda3/lib/python3.6/site-packages/ipykernel_launcher.py:9: RuntimeWarning: invalid value encountered in multiply\n",
      "  if __name__ == '__main__':\n",
      "/home/theopanag/anaconda3/lib/python3.6/site-packages/ipykernel_launcher.py:9: RuntimeWarning: divide by zero encountered in log\n",
      "  if __name__ == '__main__':\n",
      "/home/theopanag/anaconda3/lib/python3.6/site-packages/ipykernel_launcher.py:9: RuntimeWarning: invalid value encountered in multiply\n",
      "  if __name__ == '__main__':\n"
     ]
    },
    {
     "name": "stdout",
     "output_type": "stream",
     "text": [
      "Optimization terminated successfully.\n",
      "         Current function value: 0.013149\n",
      "         Iterations: 140\n",
      "         Function evaluations: 533\n",
      "         Gradient evaluations: 533\n",
      "2\n"
     ]
    },
    {
     "name": "stderr",
     "output_type": "stream",
     "text": [
      "/home/theopanag/anaconda3/lib/python3.6/site-packages/ipykernel_launcher.py:9: RuntimeWarning: divide by zero encountered in log\n",
      "  if __name__ == '__main__':\n",
      "/home/theopanag/anaconda3/lib/python3.6/site-packages/ipykernel_launcher.py:9: RuntimeWarning: invalid value encountered in multiply\n",
      "  if __name__ == '__main__':\n",
      "/home/theopanag/anaconda3/lib/python3.6/site-packages/ipykernel_launcher.py:9: RuntimeWarning: divide by zero encountered in log\n",
      "  if __name__ == '__main__':\n",
      "/home/theopanag/anaconda3/lib/python3.6/site-packages/ipykernel_launcher.py:9: RuntimeWarning: invalid value encountered in multiply\n",
      "  if __name__ == '__main__':\n"
     ]
    },
    {
     "name": "stdout",
     "output_type": "stream",
     "text": [
      "Optimization terminated successfully.\n",
      "         Current function value: 0.050824\n",
      "         Iterations: 252\n",
      "         Function evaluations: 783\n",
      "         Gradient evaluations: 783\n",
      "3\n"
     ]
    },
    {
     "name": "stderr",
     "output_type": "stream",
     "text": [
      "/home/theopanag/anaconda3/lib/python3.6/site-packages/ipykernel_launcher.py:9: RuntimeWarning: divide by zero encountered in log\n",
      "  if __name__ == '__main__':\n",
      "/home/theopanag/anaconda3/lib/python3.6/site-packages/ipykernel_launcher.py:9: RuntimeWarning: invalid value encountered in multiply\n",
      "  if __name__ == '__main__':\n",
      "/home/theopanag/anaconda3/lib/python3.6/site-packages/ipykernel_launcher.py:9: RuntimeWarning: divide by zero encountered in log\n",
      "  if __name__ == '__main__':\n",
      "/home/theopanag/anaconda3/lib/python3.6/site-packages/ipykernel_launcher.py:9: RuntimeWarning: invalid value encountered in multiply\n",
      "  if __name__ == '__main__':\n"
     ]
    },
    {
     "name": "stdout",
     "output_type": "stream",
     "text": [
      "Optimization terminated successfully.\n",
      "         Current function value: 0.057612\n",
      "         Iterations: 263\n",
      "         Function evaluations: 813\n",
      "         Gradient evaluations: 813\n",
      "4\n"
     ]
    },
    {
     "name": "stderr",
     "output_type": "stream",
     "text": [
      "/home/theopanag/anaconda3/lib/python3.6/site-packages/ipykernel_launcher.py:9: RuntimeWarning: divide by zero encountered in log\n",
      "  if __name__ == '__main__':\n",
      "/home/theopanag/anaconda3/lib/python3.6/site-packages/ipykernel_launcher.py:9: RuntimeWarning: invalid value encountered in multiply\n",
      "  if __name__ == '__main__':\n",
      "/home/theopanag/anaconda3/lib/python3.6/site-packages/ipykernel_launcher.py:9: RuntimeWarning: divide by zero encountered in log\n",
      "  if __name__ == '__main__':\n",
      "/home/theopanag/anaconda3/lib/python3.6/site-packages/ipykernel_launcher.py:9: RuntimeWarning: invalid value encountered in multiply\n",
      "  if __name__ == '__main__':\n"
     ]
    },
    {
     "name": "stdout",
     "output_type": "stream",
     "text": [
      "Optimization terminated successfully.\n",
      "         Current function value: 0.033073\n",
      "         Iterations: 207\n",
      "         Function evaluations: 714\n",
      "         Gradient evaluations: 714\n",
      "5\n"
     ]
    },
    {
     "name": "stderr",
     "output_type": "stream",
     "text": [
      "/home/theopanag/anaconda3/lib/python3.6/site-packages/ipykernel_launcher.py:9: RuntimeWarning: divide by zero encountered in log\n",
      "  if __name__ == '__main__':\n",
      "/home/theopanag/anaconda3/lib/python3.6/site-packages/ipykernel_launcher.py:9: RuntimeWarning: invalid value encountered in multiply\n",
      "  if __name__ == '__main__':\n",
      "/home/theopanag/anaconda3/lib/python3.6/site-packages/ipykernel_launcher.py:9: RuntimeWarning: divide by zero encountered in log\n",
      "  if __name__ == '__main__':\n",
      "/home/theopanag/anaconda3/lib/python3.6/site-packages/ipykernel_launcher.py:9: RuntimeWarning: invalid value encountered in multiply\n",
      "  if __name__ == '__main__':\n"
     ]
    },
    {
     "name": "stdout",
     "output_type": "stream",
     "text": [
      "Optimization terminated successfully.\n",
      "         Current function value: 0.054489\n",
      "         Iterations: 254\n",
      "         Function evaluations: 802\n",
      "         Gradient evaluations: 802\n",
      "6\n"
     ]
    },
    {
     "name": "stderr",
     "output_type": "stream",
     "text": [
      "/home/theopanag/anaconda3/lib/python3.6/site-packages/ipykernel_launcher.py:9: RuntimeWarning: divide by zero encountered in log\n",
      "  if __name__ == '__main__':\n",
      "/home/theopanag/anaconda3/lib/python3.6/site-packages/ipykernel_launcher.py:9: RuntimeWarning: invalid value encountered in multiply\n",
      "  if __name__ == '__main__':\n",
      "/home/theopanag/anaconda3/lib/python3.6/site-packages/ipykernel_launcher.py:9: RuntimeWarning: divide by zero encountered in log\n",
      "  if __name__ == '__main__':\n",
      "/home/theopanag/anaconda3/lib/python3.6/site-packages/ipykernel_launcher.py:9: RuntimeWarning: invalid value encountered in multiply\n",
      "  if __name__ == '__main__':\n"
     ]
    },
    {
     "name": "stdout",
     "output_type": "stream",
     "text": [
      "Optimization terminated successfully.\n",
      "         Current function value: 0.018269\n",
      "         Iterations: 169\n",
      "         Function evaluations: 632\n",
      "         Gradient evaluations: 632\n",
      "7\n"
     ]
    },
    {
     "name": "stderr",
     "output_type": "stream",
     "text": [
      "/home/theopanag/anaconda3/lib/python3.6/site-packages/ipykernel_launcher.py:9: RuntimeWarning: divide by zero encountered in log\n",
      "  if __name__ == '__main__':\n",
      "/home/theopanag/anaconda3/lib/python3.6/site-packages/ipykernel_launcher.py:9: RuntimeWarning: invalid value encountered in multiply\n",
      "  if __name__ == '__main__':\n",
      "/home/theopanag/anaconda3/lib/python3.6/site-packages/ipykernel_launcher.py:9: RuntimeWarning: divide by zero encountered in log\n",
      "  if __name__ == '__main__':\n",
      "/home/theopanag/anaconda3/lib/python3.6/site-packages/ipykernel_launcher.py:9: RuntimeWarning: invalid value encountered in multiply\n",
      "  if __name__ == '__main__':\n"
     ]
    },
    {
     "name": "stdout",
     "output_type": "stream",
     "text": [
      "Optimization terminated successfully.\n",
      "         Current function value: 0.030652\n",
      "         Iterations: 210\n",
      "         Function evaluations: 711\n",
      "         Gradient evaluations: 711\n",
      "8\n"
     ]
    },
    {
     "name": "stderr",
     "output_type": "stream",
     "text": [
      "/home/theopanag/anaconda3/lib/python3.6/site-packages/ipykernel_launcher.py:9: RuntimeWarning: divide by zero encountered in log\n",
      "  if __name__ == '__main__':\n",
      "/home/theopanag/anaconda3/lib/python3.6/site-packages/ipykernel_launcher.py:9: RuntimeWarning: invalid value encountered in multiply\n",
      "  if __name__ == '__main__':\n",
      "/home/theopanag/anaconda3/lib/python3.6/site-packages/ipykernel_launcher.py:9: RuntimeWarning: divide by zero encountered in log\n",
      "  if __name__ == '__main__':\n",
      "/home/theopanag/anaconda3/lib/python3.6/site-packages/ipykernel_launcher.py:9: RuntimeWarning: invalid value encountered in multiply\n",
      "  if __name__ == '__main__':\n"
     ]
    },
    {
     "name": "stdout",
     "output_type": "stream",
     "text": [
      "Optimization terminated successfully.\n",
      "         Current function value: 0.078452\n",
      "         Iterations: 380\n",
      "         Function evaluations: 1064\n",
      "         Gradient evaluations: 1064\n",
      "9\n"
     ]
    },
    {
     "name": "stderr",
     "output_type": "stream",
     "text": [
      "/home/theopanag/anaconda3/lib/python3.6/site-packages/ipykernel_launcher.py:9: RuntimeWarning: divide by zero encountered in log\n",
      "  if __name__ == '__main__':\n",
      "/home/theopanag/anaconda3/lib/python3.6/site-packages/ipykernel_launcher.py:9: RuntimeWarning: invalid value encountered in multiply\n",
      "  if __name__ == '__main__':\n",
      "/home/theopanag/anaconda3/lib/python3.6/site-packages/ipykernel_launcher.py:9: RuntimeWarning: divide by zero encountered in log\n",
      "  if __name__ == '__main__':\n",
      "/home/theopanag/anaconda3/lib/python3.6/site-packages/ipykernel_launcher.py:9: RuntimeWarning: invalid value encountered in multiply\n",
      "  if __name__ == '__main__':\n"
     ]
    },
    {
     "name": "stdout",
     "output_type": "stream",
     "text": [
      "Optimization terminated successfully.\n",
      "         Current function value: 0.071206\n",
      "         Iterations: 321\n",
      "         Function evaluations: 923\n",
      "         Gradient evaluations: 923\n"
     ]
    }
   ],
   "source": [
    "theta_all = oneVsAll(X, Y, 10, 0.1)"
   ]
  },
  {
   "cell_type": "code",
   "execution_count": 8,
   "metadata": {},
   "outputs": [
    {
     "name": "stdout",
     "output_type": "stream",
     "text": [
      "Prediction accuracy: 96.46%\n"
     ]
    }
   ],
   "source": [
    "y_pr = predictOneVsAll(theta_all, X)\n",
    "print(\"Prediction accuracy: {0}%\".format(round((np.mod(Y,10).flatten()==y_pr).mean()*100,3)))"
   ]
  },
  {
   "cell_type": "markdown",
   "metadata": {},
   "source": [
    "## Part 2 - Neural Networks"
   ]
  },
  {
   "cell_type": "markdown",
   "metadata": {},
   "source": [
    "### 2.1 Model Representation"
   ]
  },
  {
   "cell_type": "code",
   "execution_count": 9,
   "metadata": {},
   "outputs": [],
   "source": [
    "# Read network parameters\n",
    "FILE = 'ex3weights.mat'\n",
    "path = os.path.join(FOLDER, FILE)\n",
    "\n",
    "weights = scipy.io.loadmat(path)\n",
    "theta1 = weights['Theta1']\n",
    "theta2 = weights['Theta2']"
   ]
  },
  {
   "cell_type": "code",
   "execution_count": 10,
   "metadata": {},
   "outputs": [
    {
     "data": {
      "text/plain": [
       "(10, 26)"
      ]
     },
     "execution_count": 10,
     "metadata": {},
     "output_type": "execute_result"
    }
   ],
   "source": [
    "theta2.shape"
   ]
  },
  {
   "cell_type": "markdown",
   "metadata": {},
   "source": [
    "### 2.2 Feed forward propagation and prediction"
   ]
  },
  {
   "cell_type": "code",
   "execution_count": 11,
   "metadata": {},
   "outputs": [],
   "source": [
    "def predict(t1, t2, x):\n",
    "    assert t1.shape[0] == t2.shape[1] - 1, \"Mismatch in shapes between the weight of different layers\"\n",
    "\n",
    "    # add bias term to x\n",
    "    x_0 = np.hstack((np.ones((x.shape[0],1)), x))\n",
    "    \n",
    "    assert x_0.shape[1] == t1.shape[1], \"Mismatch in shapes between input and 1st layer weights\"\n",
    "    \n",
    "    a_1 = sigmoid(np.dot(x_0, t1.T))\n",
    "\n",
    "    # add bias term to a_1\n",
    "    a_1b = np.hstack((np.ones((a_1.shape[0],1)),a_1))\n",
    "\n",
    "    a_2 = sigmoid(np.dot(a_1b, t2.T))\n",
    "\n",
    "    \n",
    "    return np.argmax(a_2, axis = 1)+1"
   ]
  },
  {
   "cell_type": "code",
   "execution_count": 12,
   "metadata": {},
   "outputs": [
    {
     "name": "stdout",
     "output_type": "stream",
     "text": [
      "Prediction accuracy: 87.6\n"
     ]
    }
   ],
   "source": [
    "y_nn = predict(theta1, theta2, X)\n",
    "print(\"Prediction accuracy: {0}\".format(round((np.mod(Y,10).flatten()==y_nn).mean()*100, 3)))"
   ]
  }
 ],
 "metadata": {
  "kernelspec": {
   "display_name": "Python 3",
   "language": "python",
   "name": "python3"
  },
  "language_info": {
   "codemirror_mode": {
    "name": "ipython",
    "version": 3
   },
   "file_extension": ".py",
   "mimetype": "text/x-python",
   "name": "python",
   "nbconvert_exporter": "python",
   "pygments_lexer": "ipython3",
   "version": "3.6.4"
  }
 },
 "nbformat": 4,
 "nbformat_minor": 2
}
