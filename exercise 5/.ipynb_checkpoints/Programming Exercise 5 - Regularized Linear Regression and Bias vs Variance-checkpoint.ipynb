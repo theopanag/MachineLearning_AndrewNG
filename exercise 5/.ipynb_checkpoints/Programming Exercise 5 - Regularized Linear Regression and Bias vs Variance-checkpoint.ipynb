{
 "cells": [
  {
   "cell_type": "code",
   "execution_count": 1,
   "metadata": {},
   "outputs": [],
   "source": [
    "import numpy as np\n",
    "import pandas as pd\n",
    "import matplotlib.pyplot as plt\n",
    "\n",
    "import scipy.optimize as opt\n",
    "import scipy.io\n",
    "\n",
    "import os\n",
    "\n",
    "%matplotlib inline"
   ]
  },
  {
   "cell_type": "markdown",
   "metadata": {},
   "source": [
    "## Part 1 - Regularized Linear Regression"
   ]
  },
  {
   "cell_type": "markdown",
   "metadata": {},
   "source": [
    "### 1.1 Visualizing the dataset"
   ]
  },
  {
   "cell_type": "code",
   "execution_count": 2,
   "metadata": {},
   "outputs": [
    {
     "name": "stdout",
     "output_type": "stream",
     "text": [
      "X is of dimensions (12, 1)\n",
      "y is of dimensions (12,)\n",
      "Xval is of dimensions (21, 1)\n",
      "yval is of dimensions (21,)\n",
      "Xtest is of dimensions (21, 1)\n",
      "Ytest is of dimensions (21,)\n"
     ]
    }
   ],
   "source": [
    "# Read the data\n",
    "FOLDER = 'data'\n",
    "FILE = 'ex5data1.mat'\n",
    "path = os.path.join(FOLDER, FILE)\n",
    "\n",
    "data = scipy.io.loadmat(path)\n",
    "\n",
    "X = data['X']\n",
    "Y = data['y'].flatten()\n",
    "print(\"X is of dimensions {0}\".format(X.shape))\n",
    "print(\"y is of dimensions {0}\".format(Y.shape))\n",
    "Xval = data['Xval']\n",
    "Yval = data['yval'].flatten()\n",
    "print(\"Xval is of dimensions {0}\".format(Xval.shape))\n",
    "print(\"yval is of dimensions {0}\".format(Yval.shape))\n",
    "Xtest = data['Xtest']\n",
    "Ytest = data['ytest'].flatten()\n",
    "print(\"Xtest is of dimensions {0}\".format(Xtest.shape))\n",
    "print(\"Ytest is of dimensions {0}\".format(Ytest.shape))"
   ]
  },
  {
   "cell_type": "code",
   "execution_count": 3,
   "metadata": {},
   "outputs": [
    {
     "data": {
      "image/png": "[encoded data removed]",
      "text/plain": [
       "<Figure size 576x432 with 1 Axes>"
      ]
     },
     "metadata": {},
     "output_type": "display_data"
    }
   ],
   "source": [
    "plt.figure(figsize = (8,6))\n",
    "plt.scatter(X,\n",
    "            Y,\n",
    "            marker = 'x',\n",
    "            color = 'red')\n",
    "plt.xlabel('Change in water level (x)')\n",
    "plt.ylabel('Water flowing out of the dam (y)')\n",
    "plt.show()"
   ]
  },
  {
   "cell_type": "markdown",
   "metadata": {},
   "source": [
    "### 1.2 Regularized linear regression cost function"
   ]
  },
  {
   "cell_type": "markdown",
   "metadata": {},
   "source": [
    "Regularized linear regression has the following cost function: $$ J(\\theta) = \\frac{1}{2m} \\left ( \\sum_{i=1}^{m} (h_{\\theta}(x^{(i)}) - y^{(i)})^2 \\right ) + \\frac{\\lambda}{2m} \\left ( \\sum_{j=1}^n \\theta_j^2 \\right ) $$ where $\\lambda$ is a regularization parameter which controls the degree of regularization (thus, help preventing overfitting). The regularization term puts a penalty on the overall cost J. As the magnitudes of the model parameters $\\theta_j$ increase, the penalty increases as well."
   ]
  },
  {
   "cell_type": "code",
   "execution_count": 4,
   "metadata": {},
   "outputs": [],
   "source": [
    "class linearRegression:\n",
    "    def __init__(self, theta):\n",
    "        self.theta = theta\n",
    "        \n",
    "    def get_theta(self):\n",
    "        return self.theta\n",
    "    \n",
    "    def set_theta(self, theta):\n",
    "        self.theta = theta\n",
    "        \n",
    "    def augment_x(self, x):\n",
    "        return np.hstack((np.ones((x.shape[0],1)),x))\n",
    "    \n",
    "    def hypothesis(self, x):\n",
    "        '''\n",
    "        x is of dimensions (num_of_examples, num_of_features)\n",
    "        theta is of dimensions (num_of_features + bias, 1)\n",
    "        '''\n",
    "        assert self.theta.shape[0] == x.shape[1] + 1, \"Theta and X shape mismatch\"\n",
    "        x_aug = self.augment_x(x)\n",
    "        hyp = np.dot(x_aug, self.theta)\n",
    "        return hyp\n",
    "    \n",
    "    def regularize(self, x, l = 0):\n",
    "        '''\n",
    "        l is the regularization parameter\n",
    "        '''\n",
    "        m = x.shape[0] # the number of training examples\n",
    "        reg = np.sum(np.power(self.theta[1:],2)) * l / (2*m)\n",
    "        return reg\n",
    "    \n",
    "    def cost_function(self, x, y, l = 0):\n",
    "        m = x.shape[0]\n",
    "        J = np.sum(np.power(self.hypothesis(x) - y,2)) / (2*m) + self.regularize(x, l)\n",
    "        return J"
   ]
  },
  {
   "cell_type": "code",
   "execution_count": 5,
   "metadata": {},
   "outputs": [
    {
     "data": {
      "text/plain": [
       "303.9931922202643"
      ]
     },
     "execution_count": 5,
     "metadata": {},
     "output_type": "execute_result"
    }
   ],
   "source": [
    "cls = linearRegression(np.ones(2))\n",
    "cls.cost_function(X, Y, 1)"
   ]
  },
  {
   "cell_type": "markdown",
   "metadata": {},
   "source": [
    "### 1.3 Regularized linear regression gradient"
   ]
  },
  {
   "cell_type": "markdown",
   "metadata": {},
   "source": [
    "The partial derivative of regularized linear regression's cost for $\\theta_j$ is defined as \n",
    "\\begin{align*}  \n",
    "&\\frac{\\partial J(\\theta)}{\\partial \\theta_0} = \\frac{1}{m} \\sum_{i=1}^m (h_{\\theta}(x^{(i)}) - y^{(i)}) x_j^{(i)} &\\text{for j = 0} \\\\ \n",
    "&\\frac{\\partial J(\\theta)}{\\partial \\theta_j} = \\left ( \\frac{1}{m} \\sum_{i=1}^m (h_{\\theta}(x^{(i)}) - y^{(i)}) x_j^{(i)} \\right ) + \\frac{\\lambda}{m}\\theta_j \n",
    "&\\text{for j $\\ge$ 1}\n",
    "\\end{align*}"
   ]
  },
  {
   "cell_type": "code",
   "execution_count": 6,
   "metadata": {},
   "outputs": [],
   "source": [
    "def gradient(self, x, y, l = 0):\n",
    "    m = x.shape[0]\n",
    "    grad = np.dot( self.augment_x(x).T ,(self.hypothesis(x) - y) ) / m\n",
    "    grad[1:] += l * self.theta[1:] / m\n",
    "    return grad\n",
    "\n",
    "linearRegression.gradient = gradient"
   ]
  },
  {
   "cell_type": "code",
   "execution_count": 7,
   "metadata": {},
   "outputs": [
    {
     "data": {
      "text/plain": [
       "array([-15.30301567, 598.25074417])"
      ]
     },
     "execution_count": 7,
     "metadata": {},
     "output_type": "execute_result"
    }
   ],
   "source": [
    "cls = linearRegression(np.ones(2))\n",
    "cls.gradient(X, Y, 1)"
   ]
  },
  {
   "cell_type": "markdown",
   "metadata": {},
   "source": [
    "### 1.4 Fitting linear regression"
   ]
  },
  {
   "cell_type": "code",
   "execution_count": 8,
   "metadata": {},
   "outputs": [],
   "source": [
    "class linearRegression:\n",
    "    def __init__(self):\n",
    "        pass\n",
    "    \n",
    "    '''\n",
    "    def get_theta(self):\n",
    "        return self.theta\n",
    "    \n",
    "    def set_theta(self, theta):\n",
    "        self.theta = theta\n",
    "    '''\n",
    "    \n",
    "    def augment_x(self, x):\n",
    "        return np.hstack((np.ones((x.shape[0],1)),x))\n",
    "    \n",
    "    def hypothesis(self, theta, x):\n",
    "        '''\n",
    "        x is of dimensions (num_of_examples, num_of_features)\n",
    "        theta is of dimensions (num_of_features + bias, 1)\n",
    "        '''\n",
    "        assert theta.shape[0] == x.shape[1] + 1, \"Theta and X shape mismatch\"\n",
    "        x_aug = self.augment_x(x)\n",
    "        hyp = np.dot(x_aug, theta)\n",
    "        return hyp\n",
    "    \n",
    "    def regularize(self, theta, x, l = 0):\n",
    "        '''\n",
    "        l is the regularization parameter\n",
    "        '''\n",
    "        m = x.shape[0] # the number of training examples\n",
    "        reg = np.sum(np.power(theta[1:],2)) * l / (2*m)\n",
    "        return reg\n",
    "    \n",
    "    def cost_function(self, theta, x, y, l = 0):\n",
    "        m = x.shape[0]\n",
    "        J = np.sum(np.power(self.hypothesis(theta, x) - y,2)) / (2*m) + self.regularize(theta, x, l)\n",
    "        return J\n",
    "\n",
    "    def gradient(self, theta, x, y, l = 0):\n",
    "        m = x.shape[0]\n",
    "        grad = np.dot( self.augment_x(x).T ,(self.hypothesis(theta, x) - y) ) / m\n",
    "        grad[1:] += l * theta[1:] / m\n",
    "        return grad\n",
    "\n",
    "    def fit(self, theta, x, y, l = 0):\n",
    "        opt_theta = opt.fmin_cg(self.cost_function, theta, fprime = self.gradient, args=(x, y, l))\n",
    "        return opt_theta"
   ]
  },
  {
   "cell_type": "code",
   "execution_count": 9,
   "metadata": {},
   "outputs": [
    {
     "name": "stdout",
     "output_type": "stream",
     "text": [
      "Optimization terminated successfully.\n",
      "         Current function value: 22.379542\n",
      "         Iterations: 18\n",
      "         Function evaluations: 28\n",
      "         Gradient evaluations: 28\n"
     ]
    }
   ],
   "source": [
    "cls = linearRegression()\n",
    "opt_theta = cls.fit(theta = np.ones(2), x = X, y = Y, l = 1)"
   ]
  },
  {
   "cell_type": "code",
   "execution_count": 10,
   "metadata": {},
   "outputs": [
    {
     "data": {
      "image/png": "[encoded data removed]",
      "text/plain": [
       "<Figure size 432x288 with 1 Axes>"
      ]
     },
     "metadata": {},
     "output_type": "display_data"
    }
   ],
   "source": [
    "plt.scatter(X,Y,marker = 'x', color = 'red')\n",
    "plt.plot(X, cls.hypothesis(opt_theta, X))\n",
    "plt.xlabel('Change in water level (x)')\n",
    "plt.ylabel('Water flowing out of the dam (y)')\n",
    "plt.show()"
   ]
  },
  {
   "cell_type": "markdown",
   "metadata": {},
   "source": [
    "## Part 2 - Bias-variance"
   ]
  },
  {
   "cell_type": "markdown",
   "metadata": {},
   "source": [
    "### 2.1 Learning curves"
   ]
  },
  {
   "cell_type": "code",
   "execution_count": 11,
   "metadata": {},
   "outputs": [
    {
     "name": "stdout",
     "output_type": "stream",
     "text": [
      "Optimization terminated successfully.\n",
      "         Current function value: 0.000000\n",
      "         Iterations: 3\n",
      "         Function evaluations: 7\n",
      "         Gradient evaluations: 7\n",
      "Optimization terminated successfully.\n",
      "         Current function value: 3.286595\n",
      "         Iterations: 4\n",
      "         Function evaluations: 9\n",
      "         Gradient evaluations: 9\n",
      "Optimization terminated successfully.\n",
      "         Current function value: 2.842678\n",
      "         Iterations: 25\n",
      "         Function evaluations: 39\n",
      "         Gradient evaluations: 39\n",
      "Optimization terminated successfully.\n",
      "         Current function value: 13.154049\n",
      "         Iterations: 4\n",
      "         Function evaluations: 8\n",
      "         Gradient evaluations: 8\n",
      "Optimization terminated successfully.\n",
      "         Current function value: 19.443963\n",
      "         Iterations: 4\n",
      "         Function evaluations: 8\n",
      "         Gradient evaluations: 8\n",
      "Optimization terminated successfully.\n",
      "         Current function value: 20.098522\n",
      "         Iterations: 4\n",
      "         Function evaluations: 8\n",
      "         Gradient evaluations: 8\n",
      "Optimization terminated successfully.\n",
      "         Current function value: 18.172859\n",
      "         Iterations: 8\n",
      "         Function evaluations: 15\n",
      "         Gradient evaluations: 15\n",
      "Optimization terminated successfully.\n",
      "         Current function value: 22.609405\n",
      "         Iterations: 10\n",
      "         Function evaluations: 16\n",
      "         Gradient evaluations: 16\n",
      "Optimization terminated successfully.\n",
      "         Current function value: 23.261462\n",
      "         Iterations: 6\n",
      "         Function evaluations: 12\n",
      "         Gradient evaluations: 12\n",
      "Optimization terminated successfully.\n",
      "         Current function value: 24.317250\n",
      "         Iterations: 6\n",
      "         Function evaluations: 12\n",
      "         Gradient evaluations: 12\n"
     ]
    },
    {
     "data": {
      "image/png": "[encoded data removed]",
      "text/plain": [
       "<Figure size 576x432 with 1 Axes>"
      ]
     },
     "metadata": {},
     "output_type": "display_data"
    }
   ],
   "source": [
    "cls = linearRegression()\n",
    "cost_data = []\n",
    "l = 0\n",
    "for i in range(2,X.shape[0]):\n",
    "    subx = X[:i]\n",
    "    suby = Y[:i]\n",
    "    opt_theta = cls.fit(np.ones(2), subx, suby, l)\n",
    "    cost_train = cls.cost_function(opt_theta, subx, suby, l)\n",
    "    cost_val = cls.cost_function(opt_theta, Xval, Yval, l)\n",
    "    cost_data.append((i, cost_train, cost_val))\n",
    "i, train, cv = zip(*cost_data)\n",
    "\n",
    "plt.figure(figsize = (8,6))\n",
    "plt.plot(i, train, label = \"Train\")\n",
    "plt.plot(i, cv, label = \"Validation\")\n",
    "plt.xlabel('Number of training examples')\n",
    "plt.ylabel('Error')\n",
    "plt.title('Learning curve for linear regression')\n",
    "plt.legend()\n",
    "plt.show()"
   ]
  },
  {
   "cell_type": "markdown",
   "metadata": {},
   "source": [
    "## Part 3 - Polynomial regression"
   ]
  },
  {
   "cell_type": "code",
   "execution_count": 12,
   "metadata": {},
   "outputs": [],
   "source": [
    "def poly_features(self, x, p):\n",
    "    args = [np.power(x,i) for i in range(2,p)]\n",
    "    return np.hstack((x, np.concatenate((args), axis = 1)))"
   ]
  },
  {
   "cell_type": "code",
   "execution_count": 13,
   "metadata": {},
   "outputs": [],
   "source": [
    "linearRegression.poly_features = poly_features"
   ]
  },
  {
   "cell_type": "markdown",
   "metadata": {},
   "source": [
    "### 3.1 Learning Polynomial Regression"
   ]
  },
  {
   "cell_type": "code",
   "execution_count": 14,
   "metadata": {},
   "outputs": [],
   "source": [
    "def feature_normalize(self, x):\n",
    "    x_mean = np.mean(x, axis = 0)\n",
    "    x_std = np.std(x, axis = 0)\n",
    "    x_norm = (x - x_mean) / x_std\n",
    "    return x_norm, x_mean, x_std"
   ]
  },
  {
   "cell_type": "code",
   "execution_count": 15,
   "metadata": {},
   "outputs": [],
   "source": [
    "linearRegression.feature_normalize = feature_normalize"
   ]
  },
  {
   "cell_type": "code",
   "execution_count": 16,
   "metadata": {},
   "outputs": [
    {
     "name": "stdout",
     "output_type": "stream",
     "text": [
      "Optimization terminated successfully.\n",
      "         Current function value: 0.028892\n",
      "         Iterations: 695\n",
      "         Function evaluations: 1324\n",
      "         Gradient evaluations: 1324\n"
     ]
    },
    {
     "data": {
      "image/png": "[encoded data removed]",
      "text/plain": [
       "<Figure size 576x432 with 1 Axes>"
      ]
     },
     "metadata": {},
     "output_type": "display_data"
    }
   ],
   "source": [
    "cls = linearRegression()\n",
    "l = 0\n",
    "p = 9\n",
    "x_poly, x_mean, x_std = cls.feature_normalize(cls.poly_features(X,p))\n",
    "opt_theta = cls.fit(np.ones(p), x_poly, Y, l)\n",
    "plot_x = np.linspace(X.min() - 10, X.max() + 10)\n",
    "plt.figure(figsize = (8,6))\n",
    "plt.scatter(X,Y,marker = 'x', color = 'red')\n",
    "plt.plot(plot_x,\n",
    "         cls.hypothesis(opt_theta,(cls.poly_features(np.reshape(plot_x,(len(plot_x),1)),p) - x_mean) / x_std))\n",
    "plt.xlabel('Change in water level (x)')\n",
    "plt.ylabel('Water flowing out of the dam (y)')\n",
    "plt.title('Polynomial fit, $\\lambda$={0}'.format(l))\n",
    "plt.show()"
   ]
  },
  {
   "cell_type": "code",
   "execution_count": 17,
   "metadata": {},
   "outputs": [
    {
     "name": "stdout",
     "output_type": "stream",
     "text": [
      "Optimization terminated successfully.\n",
      "         Current function value: 0.000000\n",
      "         Iterations: 2\n",
      "         Function evaluations: 5\n",
      "         Gradient evaluations: 5\n",
      "Optimization terminated successfully.\n",
      "         Current function value: 0.000000\n",
      "         Iterations: 7\n",
      "         Function evaluations: 17\n",
      "         Gradient evaluations: 17\n",
      "Optimization terminated successfully.\n",
      "         Current function value: 0.000000\n",
      "         Iterations: 55\n",
      "         Function evaluations: 96\n",
      "         Gradient evaluations: 96\n",
      "Optimization terminated successfully.\n",
      "         Current function value: 0.000000\n",
      "         Iterations: 10\n",
      "         Function evaluations: 24\n",
      "         Gradient evaluations: 24\n",
      "Optimization terminated successfully.\n",
      "         Current function value: 0.000000\n",
      "         Iterations: 45\n",
      "         Function evaluations: 100\n",
      "         Gradient evaluations: 100\n",
      "Optimization terminated successfully.\n",
      "         Current function value: 0.000000\n",
      "         Iterations: 64\n",
      "         Function evaluations: 141\n",
      "         Gradient evaluations: 141\n",
      "Optimization terminated successfully.\n",
      "         Current function value: 0.000000\n",
      "         Iterations: 1276\n",
      "         Function evaluations: 2318\n",
      "         Gradient evaluations: 2318\n",
      "Optimization terminated successfully.\n",
      "         Current function value: 0.000000\n",
      "         Iterations: 995\n",
      "         Function evaluations: 1870\n",
      "         Gradient evaluations: 1870\n",
      "Optimization terminated successfully.\n",
      "         Current function value: 0.010821\n",
      "         Iterations: 1347\n",
      "         Function evaluations: 2602\n",
      "         Gradient evaluations: 2602\n",
      "Optimization terminated successfully.\n",
      "         Current function value: 0.031223\n",
      "         Iterations: 1054\n",
      "         Function evaluations: 2055\n",
      "         Gradient evaluations: 2055\n"
     ]
    },
    {
     "data": {
      "image/png": "[encoded data removed]",
      "text/plain": [
       "<Figure size 576x432 with 1 Axes>"
      ]
     },
     "metadata": {},
     "output_type": "display_data"
    }
   ],
   "source": [
    "cls = linearRegression()\n",
    "cost_data = []\n",
    "l = 0.0\n",
    "for i in range(2,X.shape[0]):\n",
    "    subx = (cls.poly_features(X[:i],p) - x_mean) / x_std\n",
    "    suby = Y[:i]\n",
    "    opt_theta = cls.fit(np.ones(p), subx, suby, l)\n",
    "    cost_train = cls.cost_function(opt_theta, subx, suby, l)\n",
    "    cost_val = cls.cost_function(opt_theta, (cls.poly_features(Xval,p) - x_mean) / x_std, Yval, l)\n",
    "    cost_data.append((i, cost_train, cost_val))\n",
    "i, train, cv = zip(*cost_data)\n",
    "\n",
    "plt.figure(figsize = (8,6))\n",
    "plt.plot(i, train, label = \"Train\")\n",
    "plt.plot(i, cv, label = \"Validation\")\n",
    "plt.xlabel('Number of training examples')\n",
    "plt.ylabel('Error')\n",
    "plt.title('Polynomial learning curve, $\\lambda$={0}'.format(l))\n",
    "plt.legend()\n",
    "plt.show()"
   ]
  },
  {
   "cell_type": "markdown",
   "metadata": {},
   "source": [
    "### 3.2 Adjusting the regularization parameter"
   ]
  },
  {
   "cell_type": "code",
   "execution_count": 18,
   "metadata": {},
   "outputs": [
    {
     "name": "stdout",
     "output_type": "stream",
     "text": [
      "Optimization terminated successfully.\n",
      "         Current function value: 0.070327\n",
      "         Iterations: 4\n",
      "         Function evaluations: 9\n",
      "         Gradient evaluations: 9\n",
      "Optimization terminated successfully.\n",
      "         Current function value: 17.182727\n",
      "         Iterations: 21\n",
      "         Function evaluations: 34\n",
      "         Gradient evaluations: 34\n",
      "Optimization terminated successfully.\n",
      "         Current function value: 13.476899\n",
      "         Iterations: 26\n",
      "         Function evaluations: 44\n",
      "         Gradient evaluations: 44\n",
      "Optimization terminated successfully.\n",
      "         Current function value: 10.781524\n",
      "         Iterations: 34\n",
      "         Function evaluations: 59\n",
      "         Gradient evaluations: 59\n",
      "Optimization terminated successfully.\n",
      "         Current function value: 9.347014\n",
      "         Iterations: 29\n",
      "         Function evaluations: 53\n",
      "         Gradient evaluations: 53\n",
      "Optimization terminated successfully.\n",
      "         Current function value: 8.754387\n",
      "         Iterations: 35\n",
      "         Function evaluations: 61\n",
      "         Gradient evaluations: 61\n",
      "Optimization terminated successfully.\n",
      "         Current function value: 7.682189\n",
      "         Iterations: 46\n",
      "         Function evaluations: 74\n",
      "         Gradient evaluations: 74\n",
      "Optimization terminated successfully.\n",
      "         Current function value: 7.277291\n",
      "         Iterations: 40\n",
      "         Function evaluations: 64\n",
      "         Gradient evaluations: 64\n",
      "Optimization terminated successfully.\n",
      "         Current function value: 6.592031\n",
      "         Iterations: 37\n",
      "         Function evaluations: 62\n",
      "         Gradient evaluations: 62\n",
      "Optimization terminated successfully.\n",
      "         Current function value: 5.994056\n",
      "         Iterations: 42\n",
      "         Function evaluations: 72\n",
      "         Gradient evaluations: 72\n"
     ]
    },
    {
     "data": {
      "image/png": "[encoded data removed]",
      "text/plain": [
       "<Figure size 576x432 with 1 Axes>"
      ]
     },
     "metadata": {},
     "output_type": "display_data"
    }
   ],
   "source": [
    "cls = linearRegression()\n",
    "cost_data = []\n",
    "l = 1\n",
    "for i in range(2,X.shape[0]):\n",
    "    subx = (cls.poly_features(X[:i],p) - x_mean) / x_std\n",
    "    suby = Y[:i]\n",
    "    opt_theta = cls.fit(np.ones(p), subx, suby, l)\n",
    "    cost_train = cls.cost_function(opt_theta, subx, suby, l)\n",
    "    cost_val = cls.cost_function(opt_theta, (cls.poly_features(Xval,p) - x_mean) / x_std, Yval, l)\n",
    "    cost_data.append((i, cost_train, cost_val))\n",
    "i, train, cv = zip(*cost_data)\n",
    "\n",
    "plt.figure(figsize = (8,6))\n",
    "plt.plot(i, train, label = \"Train\")\n",
    "plt.plot(i, cv, label = \"Validation\")\n",
    "plt.xlabel('Number of training examples')\n",
    "plt.ylabel('Error')\n",
    "plt.title('Polynomial Regression Learning Curve, $\\lambda$ = {0}'.format(l))\n",
    "plt.legend()\n",
    "plt.show()"
   ]
  },
  {
   "cell_type": "markdown",
   "metadata": {},
   "source": [
    "### 3.3 Selecting $\\lambda$ using a cross validation set"
   ]
  },
  {
   "cell_type": "code",
   "execution_count": 19,
   "metadata": {},
   "outputs": [
    {
     "name": "stdout",
     "output_type": "stream",
     "text": [
      "Optimization terminated successfully.\n",
      "         Current function value: 0.028892\n",
      "         Iterations: 695\n",
      "         Function evaluations: 1324\n",
      "         Gradient evaluations: 1324\n",
      "Optimization terminated successfully.\n",
      "         Current function value: 0.169418\n",
      "         Iterations: 298\n",
      "         Function evaluations: 563\n",
      "         Gradient evaluations: 563\n",
      "Optimization terminated successfully.\n",
      "         Current function value: 0.243172\n",
      "         Iterations: 330\n",
      "         Function evaluations: 622\n",
      "         Gradient evaluations: 622\n",
      "Optimization terminated successfully.\n",
      "         Current function value: 0.371282\n",
      "         Iterations: 150\n",
      "         Function evaluations: 295\n",
      "         Gradient evaluations: 295\n",
      "Optimization terminated successfully.\n",
      "         Current function value: 0.636703\n",
      "         Iterations: 114\n",
      "         Function evaluations: 212\n",
      "         Gradient evaluations: 212\n",
      "Optimization terminated successfully.\n",
      "         Current function value: 1.360572\n",
      "         Iterations: 76\n",
      "         Function evaluations: 137\n",
      "         Gradient evaluations: 137\n",
      "Optimization terminated successfully.\n",
      "         Current function value: 2.917649\n",
      "         Iterations: 37\n",
      "         Function evaluations: 69\n",
      "         Gradient evaluations: 69\n",
      "Optimization terminated successfully.\n",
      "         Current function value: 6.830463\n",
      "         Iterations: 25\n",
      "         Function evaluations: 43\n",
      "         Gradient evaluations: 43\n",
      "Optimization terminated successfully.\n",
      "         Current function value: 14.937646\n",
      "         Iterations: 26\n",
      "         Function evaluations: 41\n",
      "         Gradient evaluations: 41\n",
      "Optimization terminated successfully.\n",
      "         Current function value: 31.878154\n",
      "         Iterations: 11\n",
      "         Function evaluations: 20\n",
      "         Gradient evaluations: 20\n"
     ]
    },
    {
     "data": {
      "image/png": "[encoded data removed]",
      "text/plain": [
       "<Figure size 576x432 with 1 Axes>"
      ]
     },
     "metadata": {},
     "output_type": "display_data"
    }
   ],
   "source": [
    "cls1 = linearRegression()\n",
    "costs = []\n",
    "l = [0, 0.001, 0.003, 0.01, 0.03, 0.1, 0.3, 1, 3,10]\n",
    "p = 9\n",
    "x_poly, x_mean, x_std = cls.feature_normalize(cls.poly_features(X,p))\n",
    "for item in l:\n",
    "    opt_theta = cls1.fit(np.ones(p), x_poly, Y, item)\n",
    "    cost_train = cls1.cost_function(opt_theta, x_poly, Y, item)\n",
    "    cost_val = cls1.cost_function(opt_theta, (cls1.poly_features(Xval,p) - x_mean) / x_std, Yval, item)\n",
    "    costs.append((item, cost_train, cost_val))\n",
    "item, train, cv = zip(*costs)\n",
    "\n",
    "plt.figure(figsize = (8,6))\n",
    "plt.plot(item, train, label = \"Train\")\n",
    "plt.plot(item, cv, label = \"Validation\")\n",
    "plt.xlabel('Value of lambda')\n",
    "plt.ylabel('Error')\n",
    "plt.title('Selecting $\\lambda$ using a cross validation set')\n",
    "plt.legend()\n",
    "plt.show()"
   ]
  }
 ],
 "metadata": {
  "kernelspec": {
   "display_name": "Python 3",
   "language": "python",
   "name": "python3"
  },
  "language_info": {
   "codemirror_mode": {
    "name": "ipython",
    "version": 3
   },
   "file_extension": ".py",
   "mimetype": "text/x-python",
   "name": "python",
   "nbconvert_exporter": "python",
   "pygments_lexer": "ipython3",
   "version": "3.6.4"
  }
 },
 "nbformat": 4,
 "nbformat_minor": 2
}
