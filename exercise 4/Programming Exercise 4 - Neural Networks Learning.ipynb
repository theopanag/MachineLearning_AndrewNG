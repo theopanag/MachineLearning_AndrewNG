{
 "cells": [
  {
   "cell_type": "code",
   "execution_count": 1,
   "metadata": {},
   "outputs": [],
   "source": [
    "import numpy as np\n",
    "import pandas as pd\n",
    "import matplotlib.pyplot as plt\n",
    "import scipy.optimize as opt\n",
    "import scipy.io\n",
    "\n",
    "import os\n",
    "\n",
    "%matplotlib inline"
   ]
  },
  {
   "cell_type": "markdown",
   "metadata": {},
   "source": [
    "## Part 1 - Neural Networks"
   ]
  },
  {
   "cell_type": "markdown",
   "metadata": {},
   "source": [
    "### 1.1 Visualizing the data"
   ]
  },
  {
   "cell_type": "code",
   "execution_count": 2,
   "metadata": {},
   "outputs": [
    {
     "name": "stdout",
     "output_type": "stream",
     "text": [
      "X is of dimensions (5000, 400)\n",
      "y is of dimensions (5000,)\n"
     ]
    }
   ],
   "source": [
    "# Read the data\n",
    "FOLDER = 'data'\n",
    "FILE = 'ex4data1.mat'\n",
    "path = os.path.join(FOLDER, FILE)\n",
    "\n",
    "data = scipy.io.loadmat(path)\n",
    "X = pd.DataFrame(data = data['X'],\n",
    "                 columns = ['x'+str(i) for i in range(data['X'].shape[1])])\n",
    "Y = pd.Series(data = data['y'].flatten())\n",
    "print(\"X is of dimensions {0}\".format(X.shape))\n",
    "print(\"y is of dimensions {0}\".format(Y.shape))"
   ]
  },
  {
   "cell_type": "code",
   "execution_count": 3,
   "metadata": {},
   "outputs": [
    {
     "name": "stdout",
     "output_type": "stream",
     "text": [
      "True value = 4\n"
     ]
    },
    {
     "data": {
      "image/png": "[encoded data removed]",
      "text/plain": [
       "<Figure size 432x288 with 1 Axes>"
      ]
     },
     "metadata": {},
     "output_type": "display_data"
    }
   ],
   "source": [
    "plt.gray()\n",
    "row = 2007\n",
    "plt.imshow(X.loc[row,:].values.reshape((20,20), order = 'F'), aspect = 'equal')\n",
    "print(\"True value = {0}\".format(Y[row].item()))"
   ]
  },
  {
   "cell_type": "markdown",
   "metadata": {},
   "source": [
    "### 1.2 Model Representation"
   ]
  },
  {
   "cell_type": "code",
   "execution_count": 4,
   "metadata": {},
   "outputs": [],
   "source": [
    "input_units = 400\n",
    "hidden_units = 25\n",
    "output_units = 10\n",
    "\n",
    "# Read the weights provided\n",
    "FILE = 'ex4weights.mat'\n",
    "path = os.path.join(FOLDER, FILE)\n",
    "weights = scipy.io.loadmat(path)\n",
    "theta1_df = pd.DataFrame(data = weights[\"Theta1\"],\n",
    "                      columns = ['theta'+str(i) for i in range(weights[\"Theta1\"].shape[1])])\n",
    "theta2_df = pd.DataFrame(data = weights[\"Theta2\"],\n",
    "                      columns = ['theta'+str(i) for i in range(weights[\"Theta2\"].shape[1])])"
   ]
  },
  {
   "cell_type": "code",
   "execution_count": 5,
   "metadata": {},
   "outputs": [
    {
     "data": {
      "text/plain": [
       "array([-2.25623899e-02, -1.05624163e-08,  2.19414684e-09, ...,\n",
       "       -1.80365926e-06, -8.14464807e-06,  8.79454531e-09])"
      ]
     },
     "execution_count": 5,
     "metadata": {},
     "output_type": "execute_result"
    }
   ],
   "source": [
    "theta1_df.values.flatten()"
   ]
  },
  {
   "cell_type": "markdown",
   "metadata": {},
   "source": [
    "### 1.3 Feed forward and Cost function"
   ]
  },
  {
   "cell_type": "markdown",
   "metadata": {},
   "source": [
    "The cost function for the neural network (without regularization) is $$ J(\\theta)=\\frac{1}{m} \\sum_{i=1}^m \\sum_{k=1}^K \\left [ -y_k^{(i)} log ((h_{\\theta}(x^{(i)}))_k) - (1-y_k^{(i)}) log(1-(h_{\\theta}(x^{(i)}))_k) \\right ] $$"
   ]
  },
  {
   "cell_type": "code",
   "execution_count": 6,
   "metadata": {},
   "outputs": [],
   "source": [
    "def sigmoid(z):\n",
    "    res = 1 / (1 + np.exp(-z))\n",
    "    return res\n",
    "\n",
    "def flat_param(t1_df, t2_df):\n",
    "    # Flatten parameters to pass them to minimizer\n",
    "    return np.concatenate([t1_df.values.flatten(),t2_df.values.flatten()], axis = 0)\n",
    "\n",
    "def reshape_param(flat_params, input_size, hidden_size, output_size): #n_m, n_u, n_f\n",
    "    # Return parameters to their original shapes\n",
    "    t1 = flat_params[:int((input_size+1)*hidden_size)].reshape((hidden_size,input_size+1))\n",
    "    t1_df = pd.DataFrame(data = t1,\n",
    "                        columns = ['theta'+str(i) for i in range(t1.shape[1])])\n",
    "    \n",
    "    t2 = flat_params[int((input_size+1)*hidden_size):].reshape((output_size, hidden_size+1))\n",
    "    t2_df = pd.DataFrame(data = t2,\n",
    "                        columns = ['theta'+str(i) for i in range(t2.shape[1])])\n",
    "       \n",
    "    return t1_df, t2_df\n",
    "\n",
    "def np_to_df(array):\n",
    "    df = pd.DataFrame(data = array,\n",
    "                     columns = [str(i+1) for i in range(array.shape[1])])\n",
    "    return df\n",
    "\n",
    "def nnCostFunction(params, input_layer_size, hidden_layer_size, num_labels, x, y):\n",
    "    # Assumes the params have been flattened with order = 'C'\n",
    "    \n",
    "    # Split the params variable to corresponding theta variables and reshape the accordingly\n",
    "    t1_df, t2_df = reshape_param(params, input_layer_size, hidden_layer_size, num_labels)\n",
    "    \n",
    "    # Store total number of examples\n",
    "    m = x.shape[0]\n",
    "    \n",
    "    # Add the a_0 for the input layer\n",
    "    a_inp = np.hstack((np.ones((x.shape[0],1)), x))\n",
    "    \n",
    "    # Calculate the dot product with the corresponding weights\n",
    "    z_hid = np.dot(a_inp, t1_df.values.T)\n",
    "    \n",
    "    # Add the a_0 for the hidden layer and pass input layer through the sigmoid function\n",
    "    a_hid = np.hstack((np.ones((z_hid.shape[0],1)), sigmoid(z_hid)))\n",
    "    \n",
    "    # Calculate the dot product with the corresponding weights\n",
    "    z_out = np.dot(a_hid, t2_df.values.T)\n",
    "    \n",
    "    # Pass hidden layer through the sigmoid function\n",
    "    a_out = sigmoid(z_out)\n",
    "    \n",
    "    # Create resulting dataframe\n",
    "    a_out_df = np_to_df(a_out)\n",
    "    \n",
    "    # Create a (num_labels * num_of_training_examples) matrix to store the binary y classifications\n",
    "    y_bin_df = np_to_df(np.zeros((m,num_labels)))\n",
    "\n",
    "    for index, value in y.iteritems():\n",
    "        y_bin_df.loc[index, str(value)] = 1\n",
    "    \n",
    "    # Calculate the cost for each column and each row in a dataframe\n",
    "    cost = y_bin_df.multiply(np.log(a_out_df)) + (1-y_bin_df).multiply(np.log(1-a_out_df))\n",
    "    \n",
    "    total_cost = -cost.sum().sum() / m\n",
    "    \n",
    "    return total_cost, np_to_df(a_inp), np_to_df(z_hid), np_to_df(a_hid), np_to_df(z_out), a_out_df, y_bin_df"
   ]
  },
  {
   "cell_type": "code",
   "execution_count": 7,
   "metadata": {},
   "outputs": [
    {
     "name": "stdout",
     "output_type": "stream",
     "text": [
      "The cost for the loaded set of parameters is 0.287629\n"
     ]
    }
   ],
   "source": [
    "param_long = flat_param(theta1_df, theta2_df)\n",
    "cost_example = nnCostFunction(param_long,\n",
    "                              input_units,\n",
    "                              hidden_units,\n",
    "                              output_units,\n",
    "                              X,\n",
    "                              Y)[0]\n",
    "\n",
    "print('The cost for the loaded set of parameters is {0}'.format(round(cost_example, 6)))"
   ]
  },
  {
   "cell_type": "markdown",
   "metadata": {},
   "source": [
    "### 1.4 Regularized cost function"
   ]
  },
  {
   "cell_type": "markdown",
   "metadata": {},
   "source": [
    "The cost for Neural Networks with regularization is given by $$ J(\\theta)=\\frac{1}{m} \\sum_{i=1}^m \\sum_{k=1}^K \\left [ -y_k^{(i)} log ((h_{\\theta}(x^{(i)}))_k) - (1-y_k^{(i)}) log(1-(h_{\\theta}(x^{(i)}))_k) \\right ] + \\frac{\\lambda}{2m} \\left [ \\sum_{j=1}^{25} \\sum_{k=1}^{400} (\\Theta_{j,k}^{(1)})^2 + \\sum_{j=1}^{10} \\sum_{k=1}^{25} (\\Theta_{j,k}^{(2)})^2 \\right ] $$"
   ]
  },
  {
   "cell_type": "code",
   "execution_count": 8,
   "metadata": {},
   "outputs": [],
   "source": [
    "# Enhancing the previously defined cost function\n",
    "\n",
    "def nnCostFunctionReg(params, input_layer_size, hidden_layer_size, num_labels, x, y, l):\n",
    "    # First term is the same as unregularized cost function   \n",
    "    unreg_term, a_inp_df, z_hid_df, a_hid_df, z_out_df, a_out_df, y_bin_df = nnCostFunction(params,\n",
    "                                                                        input_layer_size,\n",
    "                                                                        hidden_layer_size,\n",
    "                                                                        num_labels,\n",
    "                                                                        x,\n",
    "                                                                        y)\n",
    "    \n",
    "      \n",
    "    # Reshape the thetas out of params\n",
    "    t1_df, t2_df = reshape_param(params, input_layer_size, hidden_layer_size, num_labels)\n",
    "    \n",
    "    # Add regularization term\n",
    "    reg_term = 0.5*l*(np.power(t1_df.iloc[:,1:],2).sum().sum() + np.power(t2_df.iloc[:,1:],2).sum().sum()) / x.shape[0]\n",
    "    \n",
    "    return unreg_term + reg_term, a_inp_df, z_hid_df, a_hid_df, z_out_df, a_out_df, y_bin_df"
   ]
  },
  {
   "cell_type": "code",
   "execution_count": 9,
   "metadata": {},
   "outputs": [
    {
     "name": "stdout",
     "output_type": "stream",
     "text": [
      "The regularized cost for the loaded set of parameters is 0.38377\n"
     ]
    }
   ],
   "source": [
    "cost_example_reg = nnCostFunctionReg(param_long, input_units, hidden_units, output_units, X, Y, 1)[0]\n",
    "print('The regularized cost for the loaded set of parameters is {0}'.format(round(cost_example_reg,6)))"
   ]
  },
  {
   "cell_type": "markdown",
   "metadata": {},
   "source": [
    "## Part 2 - Backpropagation"
   ]
  },
  {
   "cell_type": "markdown",
   "metadata": {},
   "source": [
    "### 2.1 Sigmoid gradient"
   ]
  },
  {
   "cell_type": "markdown",
   "metadata": {},
   "source": [
    "The gradient for the sigmoid function can be computed as $$ g'(z) = \\frac{d}{dz} g(z) = g(z)(1-g(z)) $$ where $$ sigmoid(z) = g(z) = \\frac{1}{1+e^{-z}} $$"
   ]
  },
  {
   "cell_type": "code",
   "execution_count": 10,
   "metadata": {},
   "outputs": [],
   "source": [
    "def sigmoidGrad(z):\n",
    "    return sigmoid(z)*(1-sigmoid(z))"
   ]
  },
  {
   "cell_type": "code",
   "execution_count": 11,
   "metadata": {},
   "outputs": [
    {
     "name": "stdout",
     "output_type": "stream",
     "text": [
      "Calculated gradient when z = 0 is : 0.25\n"
     ]
    }
   ],
   "source": [
    "test_val = 0\n",
    "print('Calculated gradient when z = 0 is : {0}'.format(sigmoidGrad(test_val))) # Expected value for 0: 0.25"
   ]
  },
  {
   "cell_type": "markdown",
   "metadata": {},
   "source": [
    "### 2.2 Random Initialization"
   ]
  },
  {
   "cell_type": "code",
   "execution_count": 12,
   "metadata": {},
   "outputs": [],
   "source": [
    "def randInitializeWeights(L_in, L_out):\n",
    "    e_init = 0.12\n",
    "    return np.random.uniform(low = -e_init, high = e_init, size = (L_out, L_in + 1))"
   ]
  },
  {
   "cell_type": "markdown",
   "metadata": {},
   "source": [
    "### 2.3 Backpropagation"
   ]
  },
  {
   "cell_type": "code",
   "execution_count": 13,
   "metadata": {},
   "outputs": [],
   "source": [
    "def backProp(params, input_layer_size, hidden_layer_size, num_labels, x, y, l=0):\n",
    "    # Feed forward step\n",
    "    cost, a_inp_df, z_hid_df, a_hid_df, z_out_df, a_out_df, y_bin_df = nnCostFunctionReg(params,\n",
    "                                                                                         input_layer_size,\n",
    "                                                                                         hidden_layer_size,\n",
    "                                                                                         num_labels,\n",
    "                                                                                         x,\n",
    "                                                                                         y,\n",
    "                                                                                         l)\n",
    "\n",
    "    # Count the number of examples\n",
    "    m = x.shape[0]\n",
    "    \n",
    "    # Calculate delta for the output layer\n",
    "    delta_out = a_out_df - y_bin_df # (5000,10)\n",
    "    \n",
    "    # Reshape the thetas out of params\n",
    "    t1_df, t2_df = reshape_param(params, input_layer_size, hidden_layer_size, num_labels) # (25,401),(10,26)\n",
    "    \n",
    "    # Calculate delta for the hidden layer\n",
    "    delta_hid = np.multiply(delta_out.dot(t2_df.iloc[:,1:].values), sigmoidGrad(z_hid_df)) # (5000,25)\n",
    "    \n",
    "    # Calculate the gradient for hidden layer\n",
    "    grad_2 = np_to_df(np.dot(delta_out.T, a_hid_df)) / m # (10,26)\n",
    "    \n",
    "    # Calculate the gradient for input layer\n",
    "    grad_1 = np_to_df(np.dot(delta_hid.T, a_inp_df)) / m # (25,401)\n",
    "    \n",
    "    return flat_param(grad_1, grad_2)"
   ]
  },
  {
   "cell_type": "markdown",
   "metadata": {},
   "source": [
    "### 2.4 Gradient Checking"
   ]
  },
  {
   "cell_type": "code",
   "execution_count": 14,
   "metadata": {},
   "outputs": [],
   "source": [
    "def checkNNgrad(a, lam = 0):\n",
    "    input_size = 3\n",
    "    hidden_size = 5\n",
    "    labels = 3\n",
    "    m = 10\n",
    "    e = 1e-5\n",
    "    \n",
    "    w1_test = np_to_df(randInitializeWeights(input_size, hidden_size))\n",
    "    w2_test = np_to_df(randInitializeWeights(hidden_size, labels))\n",
    "    \n",
    "    x = np_to_df(randInitializeWeights(input_size - 1, m))\n",
    "    y = pd.Series(1 + np.mod(range(m), labels))\n",
    "    \n",
    "    nn_params = flat_param(w1_test, w2_test)\n",
    "\n",
    "    w_diff = np.zeros(len(nn_params))\n",
    "    w_diff[a] += e\n",
    "\n",
    "    # Calculate the difference in cost function\n",
    "    cost_diff = (nnCostFunctionReg(nn_params+w_diff, input_size, hidden_size, labels, x, y, lam)[0] \\\n",
    "              - nnCostFunctionReg(nn_params-w_diff, input_size, hidden_size, labels, x, y, lam)[0]) \\\n",
    "              / (2*e)\n",
    "    \n",
    "    # Calculate the gradients\n",
    "    grads = backProp(nn_params, input_size, hidden_size, labels, x, y)\n",
    "    grad1, grad2 = reshape_param(grads, input_size, hidden_size, labels)\n",
    "    \n",
    "    return cost_diff, grad1, grad2"
   ]
  },
  {
   "cell_type": "code",
   "execution_count": 15,
   "metadata": {},
   "outputs": [
    {
     "name": "stdout",
     "output_type": "stream",
     "text": [
      "The cost difference for position 37 is 0.1119469\n",
      "The gradient for position 37 is 0.1119469\n"
     ]
    }
   ],
   "source": [
    "# In the test function we have input_size = 3, hidden_size = 5 and labels = 3, therefore the total number of\n",
    "# elements of flattened gradients will be [hidden_size * (input_size+1)] + [labels * (hidden_size + 1)] = 38\n",
    "a = np.random.choice(range(38))\n",
    "cost_diff, grad1, grad2 = checkNNgrad(a, lam = 0)\n",
    "grads = flat_param(grad1, grad2)\n",
    "print('The cost difference for position {1} is {0}'.format(round(cost_diff,8), a))\n",
    "print('The gradient for position {1} is {0}'.format(round(grads[a],8), a))"
   ]
  },
  {
   "cell_type": "markdown",
   "metadata": {
    "collapsed": true
   },
   "source": [
    "### 2.5 Regularized Neural Network"
   ]
  },
  {
   "cell_type": "markdown",
   "metadata": {},
   "source": [
    "After implementing the backpropagation algorithm, we need to add regularization to the gradient: \n",
    "\\begin{align*} \n",
    "& \\frac{\\partial}{\\partial \\Theta_{ij}^{(l)}} J(\\Theta) = D_{ij}^{(l)} = \\frac{1}{m} \\Delta_{ij}^{(l)} & \\text{for j = 0} \\\\\n",
    "& \\frac{\\partial}{\\partial \\Theta_{ij}^{(l)}} J(\\Theta) = D_{ij}^{(l)} = \\frac{1}{m} \\Delta_{ij}^{(l)} + \\frac{\\lambda}{m} \\Theta_{ij}^{(l)} & \\text{for j $\\geq$ 1} \\\\\n",
    "\\end{align*}"
   ]
  },
  {
   "cell_type": "code",
   "execution_count": 16,
   "metadata": {},
   "outputs": [],
   "source": [
    "def backPropReg(params, input_layer_size, hidden_layer_size, num_labels, x, y, l):\n",
    "    # Count the number of examples\n",
    "    m = x.shape[0]    \n",
    "    \n",
    "    # Get the unregularized gradients\n",
    "    grads = backProp(params, input_layer_size, hidden_layer_size, num_labels, x, y)\n",
    "    grad_1, grad_2 = reshape_param(grads, input_layer_size, hidden_layer_size, num_labels)\n",
    "    \n",
    "    # Reshape the thetas out of params\n",
    "    t1_df, t2_df = reshape_param(params, input_layer_size, hidden_layer_size, num_labels)\n",
    "    \n",
    "    # Regularize the gradients, leaving out the \"bias\" column (the first one)\n",
    "    grad_1.iloc[:,1:] += l * t1_df.iloc[:,1:].values / m\n",
    "    grad_2.iloc[:,1:] += l * t2_df.iloc[:,1:].values / m\n",
    "    \n",
    "    return flat_param(grad_1, grad_2)"
   ]
  },
  {
   "cell_type": "markdown",
   "metadata": {},
   "source": [
    "Perform gradient checking again for the regularized gradients"
   ]
  },
  {
   "cell_type": "code",
   "execution_count": 17,
   "metadata": {},
   "outputs": [],
   "source": [
    "def checkNNgradReg(a, lam = 0):\n",
    "    input_size = 3\n",
    "    hidden_size = 5\n",
    "    labels = 3\n",
    "    m = 10\n",
    "    e = 1e-5\n",
    "    \n",
    "    w1_test = np_to_df(randInitializeWeights(input_size, hidden_size))\n",
    "    w2_test = np_to_df(randInitializeWeights(hidden_size, labels))\n",
    "    \n",
    "    x = np_to_df(randInitializeWeights(input_size - 1, m))\n",
    "    y = pd.Series(1 + np.mod(range(m), labels))\n",
    "    \n",
    "    nn_params = flat_param(w1_test, w2_test)\n",
    "\n",
    "    w_diff = np.zeros(len(nn_params))\n",
    "    w_diff[a] += e\n",
    "\n",
    "    # Calculate the difference in cost function\n",
    "    cost_diff = (nnCostFunctionReg(nn_params+w_diff, input_size, hidden_size, labels, x, y, lam)[0] \\\n",
    "              - nnCostFunctionReg(nn_params-w_diff, input_size, hidden_size, labels, x, y, lam)[0]) \\\n",
    "              / (2*e)\n",
    "    \n",
    "    # Calculate the gradients\n",
    "    grads = backPropReg(nn_params, input_size, hidden_size, labels, x, y, lam)\n",
    "    grad1, grad2 = reshape_param(grads, input_size, hidden_size, labels)\n",
    "    \n",
    "    return cost_diff, grad1, grad2"
   ]
  },
  {
   "cell_type": "code",
   "execution_count": 18,
   "metadata": {},
   "outputs": [
    {
     "name": "stdout",
     "output_type": "stream",
     "text": [
      "The regularized cost difference for position 15 is -0.02454097\n",
      "The regularized gradient for position 15 is -0.02454097\n"
     ]
    }
   ],
   "source": [
    "# In the test function we have input_size = 3, hidden_size = 5 and labels = 3, therefore the total number of\n",
    "# elements of flattened gradients will be [hidden_size * (input_size+1)] + [labels * (hidden_size + 1)] = 38\n",
    "a = np.random.choice(range(38))\n",
    "cost_diff, grad1, grad2 = checkNNgradReg(a, lam = 3)\n",
    "grads = flat_param(grad1, grad2)\n",
    "print('The regularized cost difference for position {1} is {0}'.format(round(cost_diff,8), a))\n",
    "print('The regularized gradient for position {1} is {0}'.format(round(grads[a],8), a))"
   ]
  },
  {
   "cell_type": "markdown",
   "metadata": {},
   "source": [
    "### Learning parameters using fmincg"
   ]
  },
  {
   "cell_type": "code",
   "execution_count": 19,
   "metadata": {},
   "outputs": [],
   "source": [
    "# Create a wrapper function to return only the cost, in order to make the minimizer work\n",
    "def nnCostFunctionReg_onlyCost(params, input_layer_size, hidden_layer_size, num_labels, x, y, l):\n",
    "    return nnCostFunctionReg(params, input_layer_size, hidden_layer_size, num_labels, x, y, l)[0]"
   ]
  },
  {
   "cell_type": "code",
   "execution_count": 20,
   "metadata": {},
   "outputs": [
    {
     "name": "stdout",
     "output_type": "stream",
     "text": [
      "Warning: Maximum number of iterations has been exceeded.\n",
      "         Current function value: 0.725847\n",
      "         Iterations: 100\n",
      "         Function evaluations: 207\n",
      "         Gradient evaluations: 207\n"
     ]
    }
   ],
   "source": [
    "# Regularization parameter of 5 is used\n",
    "mylambda = 5.\n",
    "params = flat_param(theta1_df, theta2_df)\n",
    "input_units = 400\n",
    "hidden_units = 25\n",
    "output_units = 10\n",
    "\n",
    "# Training the model with fmin_cg\n",
    "result = opt.fmin_cg(nnCostFunctionReg_onlyCost,\n",
    "                     x0=params,\n",
    "                     fprime=backPropReg,\n",
    "                     args=(input_units, hidden_units, output_units, X, Y, mylambda),\n",
    "                     maxiter=100,\n",
    "                     disp=True,\n",
    "                     full_output=True)\n",
    "\n",
    "theta1_opt, theta2_opt = reshape_param(result[0], input_units, hidden_units, output_units)"
   ]
  },
  {
   "cell_type": "code",
   "execution_count": 21,
   "metadata": {},
   "outputs": [],
   "source": [
    "def nnPreds(params, input_layer_size, hidden_layer_size, num_labels, x, y):\n",
    "    # Assumes the params have been flattened with order = 'C'\n",
    "    \n",
    "    # Split the params variable to corresponding theta variables and reshape the accordingly\n",
    "    t1_df, t2_df = reshape_param(params, input_layer_size, hidden_layer_size, num_labels)\n",
    "    \n",
    "    # Store total number of examples\n",
    "    m = x.shape[0]\n",
    "    \n",
    "    # Add the a_0 for the input layer\n",
    "    a_inp = np.hstack((np.ones((x.shape[0],1)), x))\n",
    "    \n",
    "    # Calculate the dot product with the corresponding weights\n",
    "    z_hid = np.dot(a_inp, t1_df.values.T)\n",
    "    \n",
    "    # Add the a_0 for the hidden layer and pass input layer through the sigmoid function\n",
    "    a_hid = np.hstack((np.ones((z_hid.shape[0],1)), sigmoid(z_hid)))\n",
    "    \n",
    "    # Calculate the dot product with the corresponding weights\n",
    "    z_out = np.dot(a_hid, t2_df.values.T)\n",
    "    \n",
    "    # Pass hidden layer through the sigmoid function\n",
    "    a_out = sigmoid(z_out)\n",
    "    \n",
    "    # Create resulting dataframe\n",
    "    a_out_df = np_to_df(a_out)\n",
    "    \n",
    "    # Predict the label with the maximum score\n",
    "    #preds = a_out_df.apply(lambda x: x.argmax(), axis=1)\n",
    "    preds = a_out_df.idxmax(axis=1).astype(int)\n",
    "    \n",
    "    return preds"
   ]
  },
  {
   "cell_type": "code",
   "execution_count": 22,
   "metadata": {},
   "outputs": [
    {
     "name": "stdout",
     "output_type": "stream",
     "text": [
      "Algorithm correctly classifies 96.16% of the examples\n"
     ]
    }
   ],
   "source": [
    "predictions = nnPreds(result[0], input_units, hidden_units, output_units, X, Y)\n",
    "accuracy = (predictions == Y).mean()\n",
    "print('Algorithm correctly classifies {0}% of the examples'.format(round(accuracy*100,2)))"
   ]
  },
  {
   "cell_type": "markdown",
   "metadata": {},
   "source": [
    "## Part 3 - Visualizing the hidden layer"
   ]
  },
  {
   "cell_type": "code",
   "execution_count": 23,
   "metadata": {},
   "outputs": [
    {
     "data": {
      "image/png": "[encoded data removed]",
      "text/plain": [
       "<Figure size 576x576 with 25 Axes>"
      ]
     },
     "metadata": {},
     "output_type": "display_data"
    }
   ],
   "source": [
    "images = 25\n",
    "cols = 5\n",
    "fig = plt.figure(figsize = (8,8))\n",
    "\n",
    "for i in range(images):\n",
    "    a = fig.add_subplot(cols, np.ceil(images/float(cols)), i + 1)\n",
    "    a.set_xticklabels([])\n",
    "    a.set_yticklabels([])\n",
    "    a.grid(False)\n",
    "    a.axis('off')\n",
    "    plt.imshow(theta1_opt.iloc[i,1:].values.reshape(20,20).T,\n",
    "               cmap='gray',\n",
    "               interpolation='none')\n",
    "plt.subplots_adjust(wspace=0, hspace=0)\n",
    "plt.suptitle('Visualizing the hidden units')\n",
    "plt.show()"
   ]
  }
 ],
 "metadata": {
  "kernelspec": {
   "display_name": "Python 3",
   "language": "python",
   "name": "python3"
  },
  "language_info": {
   "codemirror_mode": {
    "name": "ipython",
    "version": 3
   },
   "file_extension": ".py",
   "mimetype": "text/x-python",
   "name": "python",
   "nbconvert_exporter": "python",
   "pygments_lexer": "ipython3",
   "version": "3.6.4"
  }
 },
 "nbformat": 4,
 "nbformat_minor": 2
}
